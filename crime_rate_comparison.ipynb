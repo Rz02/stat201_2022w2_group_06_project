{
 "cells": [
  {
   "cell_type": "markdown",
   "metadata": {},
   "source": [
    "# **STAT-201 Project Report**\n",
    "\n",
    "## Comparison of the rate of `Offences Against a Person` before and during the outbreak of COVID-19 in Vancouver, Canada\n",
    "Zicheng Zhao, Shariq Imran Hassan, Yandong Huang, Wenhan Zhang\n",
    "\n",
    "## Introduction\n",
    "This report aims to investigate whether the outbreak of COVID-19 has affected the crime rate, particularly with regard to assault and other offenses. We will analyze the crime data from two different timeslots, before and after the outbreak of COVID-19, and use statistical methods to identify any significant differences in the frequency of crime. By understanding the impact of COVID-19 on crime, law enforcement, and policymakers can develop effective strategies to keep communities safe.\n",
    "\n",
    "It is important to note that this analysis is limited by the scope of the data and the communities included. The findings may not be generalizable to other communities or regions, and there may be other factors besides the outbreak of COVID-19 that affect crime rates.\n",
    "\n",
    "### Research Question\n",
    "In this project, the main question which we want to figure out is:\n",
    "#### *`Have` *`Offences Against a Person `* ` been influenced by the outbreak of COVID-19?`*\n",
    "\n",
    "### Dataset\n",
    "Our dataset contains crime information in Vancouver (all regions covered according to `VPD Open Data`) from 2017-2022, and including information such as:\n",
    "- `TYPE`: The type of crime activities.\n",
    "- `YEAR`, `MONTH`, `DAY`, `HOUR`, `MINUTE`: The time when the reported crime activity occured. (Based on the finding of the police investigation.)\n",
    "- `HUNDRED_BLOCK`: Generalized location of the reported crime activity.\n",
    "- `NEIGHBOURHOOD`: The name of the neighbourhood where the location of the reported crime activity was belonged to.\n",
    "- `X`, `Y`: Coordinate Values. \n",
    "\n",
    "### Analysis\n",
    "We aim to analyze `Offence Against a Person` data from subsetting `TYPE` of crime and to use it's timelime and count and location to understand its fluctutations before and after COVID. We will use `YEAR` to understand the timeline and `NEIGHBOURHOODS` to understand the impact in specific areas of Vacnouver. We predict there to be significant fluctuation in `Offence Against a Person`.\n",
    "\n",
    "\n",
    "For more information, please take a look at the website: https://vpd.ca/"
   ]
  },
  {
   "cell_type": "markdown",
   "metadata": {},
   "source": [
    "### 1. Loading the dataset\n",
    "\n",
    "First, we need to load the necessary libraries:"
   ]
  },
  {
   "cell_type": "code",
   "execution_count": 200,
   "metadata": {
    "vscode": {
     "languageId": "r"
    }
   },
   "outputs": [],
   "source": [
    "# Loading libraries\n",
    "library(tidyverse)\n",
    "library(GGally)\n",
    "library(tidymodels)\n",
    "library(broom)\n",
    "library(repr)\n",
    "library(infer)\n",
    "library(ggplot2)\n",
    "library(tidyr)"
   ]
  },
  {
   "cell_type": "markdown",
   "metadata": {},
   "source": [
    "We first downloaded the dataset to our repository and read it from there as we cannot read datasets' directly from vpd's website.\n",
    "\n",
    "Then the next thing we do is to take a glance at the dataset to see what it looks like."
   ]
  },
  {
   "cell_type": "code",
   "execution_count": 201,
   "metadata": {
    "vscode": {
     "languageId": "r"
    }
   },
   "outputs": [
    {
     "data": {
      "text/html": [
       "<table class=\"dataframe\">\n",
       "<caption>A data.frame: 6 × 10</caption>\n",
       "<thead>\n",
       "\t<tr><th></th><th scope=col>TYPE</th><th scope=col>YEAR</th><th scope=col>MONTH</th><th scope=col>DAY</th><th scope=col>HOUR</th><th scope=col>MINUTE</th><th scope=col>HUNDRED_BLOCK</th><th scope=col>NEIGHBOURHOOD</th><th scope=col>X</th><th scope=col>Y</th></tr>\n",
       "\t<tr><th></th><th scope=col>&lt;chr&gt;</th><th scope=col>&lt;chr&gt;</th><th scope=col>&lt;chr&gt;</th><th scope=col>&lt;chr&gt;</th><th scope=col>&lt;chr&gt;</th><th scope=col>&lt;chr&gt;</th><th scope=col>&lt;chr&gt;</th><th scope=col>&lt;chr&gt;</th><th scope=col>&lt;chr&gt;</th><th scope=col>&lt;chr&gt;</th></tr>\n",
       "</thead>\n",
       "<tbody>\n",
       "\t<tr><th scope=row>1</th><td>Theft from Vehicle</td><td>2017</td><td>8 </td><td>29</td><td>21</td><td>30</td><td>19XX TURNER ST  </td><td>Grandview-Woodland </td><td>495232.4238</td><td>5458486.6121</td></tr>\n",
       "\t<tr><th scope=row>2</th><td>Theft from Vehicle</td><td>2017</td><td>12</td><td>25</td><td>21</td><td>0 </td><td>19XX UPLAND DR  </td><td>Victoria-Fraserview</td><td>495089.4532</td><td>5451695.1098</td></tr>\n",
       "\t<tr><th scope=row>3</th><td>Theft from Vehicle</td><td>2017</td><td>3 </td><td>24</td><td>22</td><td>30</td><td>19XX VENABLES ST</td><td>Grandview-Woodland </td><td>495231.0367</td><td>5458207.3987</td></tr>\n",
       "\t<tr><th scope=row>4</th><td>Theft from Vehicle</td><td>2017</td><td>10</td><td>23</td><td>9 </td><td>22</td><td>19XX VENABLES ST</td><td>Grandview-Woodland </td><td>495231.0367</td><td>5458207.3987</td></tr>\n",
       "\t<tr><th scope=row>5</th><td>Theft from Vehicle</td><td>2017</td><td>7 </td><td>3 </td><td>21</td><td>0 </td><td>19XX W 11TH AVE </td><td>Kitsilano          </td><td>489210.9151</td><td>5456573.0018</td></tr>\n",
       "\t<tr><th scope=row>6</th><td>Theft from Vehicle</td><td>2017</td><td>11</td><td>10</td><td>16</td><td>0 </td><td>19XX W 11TH AVE </td><td>Kitsilano          </td><td>489210.9151</td><td>5456573.0018</td></tr>\n",
       "</tbody>\n",
       "</table>\n"
      ],
      "text/latex": [
       "A data.frame: 6 × 10\n",
       "\\begin{tabular}{r|llllllllll}\n",
       "  & TYPE & YEAR & MONTH & DAY & HOUR & MINUTE & HUNDRED\\_BLOCK & NEIGHBOURHOOD & X & Y\\\\\n",
       "  & <chr> & <chr> & <chr> & <chr> & <chr> & <chr> & <chr> & <chr> & <chr> & <chr>\\\\\n",
       "\\hline\n",
       "\t1 & Theft from Vehicle & 2017 & 8  & 29 & 21 & 30 & 19XX TURNER ST   & Grandview-Woodland  & 495232.4238 & 5458486.6121\\\\\n",
       "\t2 & Theft from Vehicle & 2017 & 12 & 25 & 21 & 0  & 19XX UPLAND DR   & Victoria-Fraserview & 495089.4532 & 5451695.1098\\\\\n",
       "\t3 & Theft from Vehicle & 2017 & 3  & 24 & 22 & 30 & 19XX VENABLES ST & Grandview-Woodland  & 495231.0367 & 5458207.3987\\\\\n",
       "\t4 & Theft from Vehicle & 2017 & 10 & 23 & 9  & 22 & 19XX VENABLES ST & Grandview-Woodland  & 495231.0367 & 5458207.3987\\\\\n",
       "\t5 & Theft from Vehicle & 2017 & 7  & 3  & 21 & 0  & 19XX W 11TH AVE  & Kitsilano           & 489210.9151 & 5456573.0018\\\\\n",
       "\t6 & Theft from Vehicle & 2017 & 11 & 10 & 16 & 0  & 19XX W 11TH AVE  & Kitsilano           & 489210.9151 & 5456573.0018\\\\\n",
       "\\end{tabular}\n"
      ],
      "text/markdown": [
       "\n",
       "A data.frame: 6 × 10\n",
       "\n",
       "| <!--/--> | TYPE &lt;chr&gt; | YEAR &lt;chr&gt; | MONTH &lt;chr&gt; | DAY &lt;chr&gt; | HOUR &lt;chr&gt; | MINUTE &lt;chr&gt; | HUNDRED_BLOCK &lt;chr&gt; | NEIGHBOURHOOD &lt;chr&gt; | X &lt;chr&gt; | Y &lt;chr&gt; |\n",
       "|---|---|---|---|---|---|---|---|---|---|---|\n",
       "| 1 | Theft from Vehicle | 2017 | 8  | 29 | 21 | 30 | 19XX TURNER ST   | Grandview-Woodland  | 495232.4238 | 5458486.6121 |\n",
       "| 2 | Theft from Vehicle | 2017 | 12 | 25 | 21 | 0  | 19XX UPLAND DR   | Victoria-Fraserview | 495089.4532 | 5451695.1098 |\n",
       "| 3 | Theft from Vehicle | 2017 | 3  | 24 | 22 | 30 | 19XX VENABLES ST | Grandview-Woodland  | 495231.0367 | 5458207.3987 |\n",
       "| 4 | Theft from Vehicle | 2017 | 10 | 23 | 9  | 22 | 19XX VENABLES ST | Grandview-Woodland  | 495231.0367 | 5458207.3987 |\n",
       "| 5 | Theft from Vehicle | 2017 | 7  | 3  | 21 | 0  | 19XX W 11TH AVE  | Kitsilano           | 489210.9151 | 5456573.0018 |\n",
       "| 6 | Theft from Vehicle | 2017 | 11 | 10 | 16 | 0  | 19XX W 11TH AVE  | Kitsilano           | 489210.9151 | 5456573.0018 |\n",
       "\n"
      ],
      "text/plain": [
       "  TYPE               YEAR MONTH DAY HOUR MINUTE HUNDRED_BLOCK   \n",
       "1 Theft from Vehicle 2017 8     29  21   30     19XX TURNER ST  \n",
       "2 Theft from Vehicle 2017 12    25  21   0      19XX UPLAND DR  \n",
       "3 Theft from Vehicle 2017 3     24  22   30     19XX VENABLES ST\n",
       "4 Theft from Vehicle 2017 10    23  9    22     19XX VENABLES ST\n",
       "5 Theft from Vehicle 2017 7     3   21   0      19XX W 11TH AVE \n",
       "6 Theft from Vehicle 2017 11    10  16   0      19XX W 11TH AVE \n",
       "  NEIGHBOURHOOD       X           Y           \n",
       "1 Grandview-Woodland  495232.4238 5458486.6121\n",
       "2 Victoria-Fraserview 495089.4532 5451695.1098\n",
       "3 Grandview-Woodland  495231.0367 5458207.3987\n",
       "4 Grandview-Woodland  495231.0367 5458207.3987\n",
       "5 Kitsilano           489210.9151 5456573.0018\n",
       "6 Kitsilano           489210.9151 5456573.0018"
      ]
     },
     "metadata": {},
     "output_type": "display_data"
    }
   ],
   "source": [
    "crime <- read.csv(\"crime_data/merged_csv_files.csv\")\n",
    "head(crime)"
   ]
  },
  {
   "cell_type": "markdown",
   "metadata": {},
   "source": [
    "**Table 1:** Preview of the crime data dataset to be analyzed."
   ]
  },
  {
   "cell_type": "markdown",
   "metadata": {},
   "source": [
    "### 2. Cleaning and Wrangling Data\n",
    "\n",
    "We first need to clean the data and get rid of any NA values our datset might have. Therefore, now we filter out any NA data in the specific columns we feel we might need to analyze in our model. The `YEAR` column had an unusual string type which needed to be adressed and changed as well. \n",
    "\n",
    "Since we are also only focusing on the years from 2017 to 2022 (COVID Timeline), we subset the `YEAR` column."
   ]
  },
  {
   "cell_type": "code",
   "execution_count": 202,
   "metadata": {
    "vscode": {
     "languageId": "r"
    }
   },
   "outputs": [
    {
     "data": {
      "text/html": [
       "<table class=\"dataframe\">\n",
       "<caption>A data.frame: 6 × 10</caption>\n",
       "<thead>\n",
       "\t<tr><th></th><th scope=col>TYPE</th><th scope=col>YEAR</th><th scope=col>MONTH</th><th scope=col>DAY</th><th scope=col>HOUR</th><th scope=col>MINUTE</th><th scope=col>HUNDRED_BLOCK</th><th scope=col>NEIGHBOURHOOD</th><th scope=col>X</th><th scope=col>Y</th></tr>\n",
       "\t<tr><th></th><th scope=col>&lt;chr&gt;</th><th scope=col>&lt;chr&gt;</th><th scope=col>&lt;chr&gt;</th><th scope=col>&lt;chr&gt;</th><th scope=col>&lt;chr&gt;</th><th scope=col>&lt;chr&gt;</th><th scope=col>&lt;chr&gt;</th><th scope=col>&lt;chr&gt;</th><th scope=col>&lt;chr&gt;</th><th scope=col>&lt;chr&gt;</th></tr>\n",
       "</thead>\n",
       "<tbody>\n",
       "\t<tr><th scope=row>1</th><td>Theft from Vehicle</td><td>2017</td><td>8 </td><td>29</td><td>21</td><td>30</td><td>19XX TURNER ST  </td><td>Grandview-Woodland </td><td>495232.4238</td><td>5458486.6121</td></tr>\n",
       "\t<tr><th scope=row>2</th><td>Theft from Vehicle</td><td>2017</td><td>12</td><td>25</td><td>21</td><td>0 </td><td>19XX UPLAND DR  </td><td>Victoria-Fraserview</td><td>495089.4532</td><td>5451695.1098</td></tr>\n",
       "\t<tr><th scope=row>3</th><td>Theft from Vehicle</td><td>2017</td><td>3 </td><td>24</td><td>22</td><td>30</td><td>19XX VENABLES ST</td><td>Grandview-Woodland </td><td>495231.0367</td><td>5458207.3987</td></tr>\n",
       "\t<tr><th scope=row>4</th><td>Theft from Vehicle</td><td>2017</td><td>10</td><td>23</td><td>9 </td><td>22</td><td>19XX VENABLES ST</td><td>Grandview-Woodland </td><td>495231.0367</td><td>5458207.3987</td></tr>\n",
       "\t<tr><th scope=row>5</th><td>Theft from Vehicle</td><td>2017</td><td>7 </td><td>3 </td><td>21</td><td>0 </td><td>19XX W 11TH AVE </td><td>Kitsilano          </td><td>489210.9151</td><td>5456573.0018</td></tr>\n",
       "\t<tr><th scope=row>6</th><td>Theft from Vehicle</td><td>2017</td><td>11</td><td>10</td><td>16</td><td>0 </td><td>19XX W 11TH AVE </td><td>Kitsilano          </td><td>489210.9151</td><td>5456573.0018</td></tr>\n",
       "</tbody>\n",
       "</table>\n"
      ],
      "text/latex": [
       "A data.frame: 6 × 10\n",
       "\\begin{tabular}{r|llllllllll}\n",
       "  & TYPE & YEAR & MONTH & DAY & HOUR & MINUTE & HUNDRED\\_BLOCK & NEIGHBOURHOOD & X & Y\\\\\n",
       "  & <chr> & <chr> & <chr> & <chr> & <chr> & <chr> & <chr> & <chr> & <chr> & <chr>\\\\\n",
       "\\hline\n",
       "\t1 & Theft from Vehicle & 2017 & 8  & 29 & 21 & 30 & 19XX TURNER ST   & Grandview-Woodland  & 495232.4238 & 5458486.6121\\\\\n",
       "\t2 & Theft from Vehicle & 2017 & 12 & 25 & 21 & 0  & 19XX UPLAND DR   & Victoria-Fraserview & 495089.4532 & 5451695.1098\\\\\n",
       "\t3 & Theft from Vehicle & 2017 & 3  & 24 & 22 & 30 & 19XX VENABLES ST & Grandview-Woodland  & 495231.0367 & 5458207.3987\\\\\n",
       "\t4 & Theft from Vehicle & 2017 & 10 & 23 & 9  & 22 & 19XX VENABLES ST & Grandview-Woodland  & 495231.0367 & 5458207.3987\\\\\n",
       "\t5 & Theft from Vehicle & 2017 & 7  & 3  & 21 & 0  & 19XX W 11TH AVE  & Kitsilano           & 489210.9151 & 5456573.0018\\\\\n",
       "\t6 & Theft from Vehicle & 2017 & 11 & 10 & 16 & 0  & 19XX W 11TH AVE  & Kitsilano           & 489210.9151 & 5456573.0018\\\\\n",
       "\\end{tabular}\n"
      ],
      "text/markdown": [
       "\n",
       "A data.frame: 6 × 10\n",
       "\n",
       "| <!--/--> | TYPE &lt;chr&gt; | YEAR &lt;chr&gt; | MONTH &lt;chr&gt; | DAY &lt;chr&gt; | HOUR &lt;chr&gt; | MINUTE &lt;chr&gt; | HUNDRED_BLOCK &lt;chr&gt; | NEIGHBOURHOOD &lt;chr&gt; | X &lt;chr&gt; | Y &lt;chr&gt; |\n",
       "|---|---|---|---|---|---|---|---|---|---|---|\n",
       "| 1 | Theft from Vehicle | 2017 | 8  | 29 | 21 | 30 | 19XX TURNER ST   | Grandview-Woodland  | 495232.4238 | 5458486.6121 |\n",
       "| 2 | Theft from Vehicle | 2017 | 12 | 25 | 21 | 0  | 19XX UPLAND DR   | Victoria-Fraserview | 495089.4532 | 5451695.1098 |\n",
       "| 3 | Theft from Vehicle | 2017 | 3  | 24 | 22 | 30 | 19XX VENABLES ST | Grandview-Woodland  | 495231.0367 | 5458207.3987 |\n",
       "| 4 | Theft from Vehicle | 2017 | 10 | 23 | 9  | 22 | 19XX VENABLES ST | Grandview-Woodland  | 495231.0367 | 5458207.3987 |\n",
       "| 5 | Theft from Vehicle | 2017 | 7  | 3  | 21 | 0  | 19XX W 11TH AVE  | Kitsilano           | 489210.9151 | 5456573.0018 |\n",
       "| 6 | Theft from Vehicle | 2017 | 11 | 10 | 16 | 0  | 19XX W 11TH AVE  | Kitsilano           | 489210.9151 | 5456573.0018 |\n",
       "\n"
      ],
      "text/plain": [
       "  TYPE               YEAR MONTH DAY HOUR MINUTE HUNDRED_BLOCK   \n",
       "1 Theft from Vehicle 2017 8     29  21   30     19XX TURNER ST  \n",
       "2 Theft from Vehicle 2017 12    25  21   0      19XX UPLAND DR  \n",
       "3 Theft from Vehicle 2017 3     24  22   30     19XX VENABLES ST\n",
       "4 Theft from Vehicle 2017 10    23  9    22     19XX VENABLES ST\n",
       "5 Theft from Vehicle 2017 7     3   21   0      19XX W 11TH AVE \n",
       "6 Theft from Vehicle 2017 11    10  16   0      19XX W 11TH AVE \n",
       "  NEIGHBOURHOOD       X           Y           \n",
       "1 Grandview-Woodland  495232.4238 5458486.6121\n",
       "2 Victoria-Fraserview 495089.4532 5451695.1098\n",
       "3 Grandview-Woodland  495231.0367 5458207.3987\n",
       "4 Grandview-Woodland  495231.0367 5458207.3987\n",
       "5 Kitsilano           489210.9151 5456573.0018\n",
       "6 Kitsilano           489210.9151 5456573.0018"
      ]
     },
     "metadata": {},
     "output_type": "display_data"
    }
   ],
   "source": [
    "# Filtering dataset, Setting Year Values to COVID Timeline\n",
    "crime <- crime %>%\n",
    "        filter(!is.na(NEIGHBOURHOOD)) %>%\n",
    "        filter(!(YEAR == \"YEAR\")) %>%\n",
    "        filter(!is.na(YEAR)) %>%\n",
    "        filter(!is.na(MONTH)) %>%\n",
    "        filter(!is.na(TYPE)) %>%\n",
    "        subset(YEAR >= 2017 & YEAR <= 2022)\n",
    "\n",
    "head(crime)"
   ]
  },
  {
   "cell_type": "markdown",
   "metadata": {},
   "source": [
    "**Table 2:** Preview of the cleaned and filtered crime data dataset."
   ]
  },
  {
   "cell_type": "markdown",
   "metadata": {},
   "source": [
    "Now we would like to see the different `TYPE`'s of crime we have and its number of occurences from 2017 to 2022."
   ]
  },
  {
   "cell_type": "code",
   "execution_count": 203,
   "metadata": {
    "vscode": {
     "languageId": "r"
    }
   },
   "outputs": [
    {
     "data": {
      "text/html": [
       "<table class=\"dataframe\">\n",
       "<caption>A tibble: 11 × 2</caption>\n",
       "<thead>\n",
       "\t<tr><th scope=col>TYPE</th><th scope=col>n</th></tr>\n",
       "\t<tr><th scope=col>&lt;chr&gt;</th><th scope=col>&lt;int&gt;</th></tr>\n",
       "</thead>\n",
       "<tbody>\n",
       "\t<tr><td>Break and Enter Commercial                            </td><td>13553</td></tr>\n",
       "\t<tr><td>Break and Enter Residential/Other                     </td><td>11953</td></tr>\n",
       "\t<tr><td>Homicide                                              </td><td>   93</td></tr>\n",
       "\t<tr><td>Mischief                                              </td><td>34042</td></tr>\n",
       "\t<tr><td>Offence Against a Person                              </td><td>21087</td></tr>\n",
       "\t<tr><td>Other Theft                                           </td><td>63346</td></tr>\n",
       "\t<tr><td>Theft from Vehicle                                    </td><td>70143</td></tr>\n",
       "\t<tr><td>Theft of Bicycle                                      </td><td>11554</td></tr>\n",
       "\t<tr><td>Theft of Vehicle                                      </td><td> 6623</td></tr>\n",
       "\t<tr><td>Vehicle Collision or Pedestrian Struck (with Fatality)</td><td>   87</td></tr>\n",
       "\t<tr><td>Vehicle Collision or Pedestrian Struck (with Injury)  </td><td> 7027</td></tr>\n",
       "</tbody>\n",
       "</table>\n"
      ],
      "text/latex": [
       "A tibble: 11 × 2\n",
       "\\begin{tabular}{ll}\n",
       " TYPE & n\\\\\n",
       " <chr> & <int>\\\\\n",
       "\\hline\n",
       "\t Break and Enter Commercial                             & 13553\\\\\n",
       "\t Break and Enter Residential/Other                      & 11953\\\\\n",
       "\t Homicide                                               &    93\\\\\n",
       "\t Mischief                                               & 34042\\\\\n",
       "\t Offence Against a Person                               & 21087\\\\\n",
       "\t Other Theft                                            & 63346\\\\\n",
       "\t Theft from Vehicle                                     & 70143\\\\\n",
       "\t Theft of Bicycle                                       & 11554\\\\\n",
       "\t Theft of Vehicle                                       &  6623\\\\\n",
       "\t Vehicle Collision or Pedestrian Struck (with Fatality) &    87\\\\\n",
       "\t Vehicle Collision or Pedestrian Struck (with Injury)   &  7027\\\\\n",
       "\\end{tabular}\n"
      ],
      "text/markdown": [
       "\n",
       "A tibble: 11 × 2\n",
       "\n",
       "| TYPE &lt;chr&gt; | n &lt;int&gt; |\n",
       "|---|---|\n",
       "| Break and Enter Commercial                             | 13553 |\n",
       "| Break and Enter Residential/Other                      | 11953 |\n",
       "| Homicide                                               |    93 |\n",
       "| Mischief                                               | 34042 |\n",
       "| Offence Against a Person                               | 21087 |\n",
       "| Other Theft                                            | 63346 |\n",
       "| Theft from Vehicle                                     | 70143 |\n",
       "| Theft of Bicycle                                       | 11554 |\n",
       "| Theft of Vehicle                                       |  6623 |\n",
       "| Vehicle Collision or Pedestrian Struck (with Fatality) |    87 |\n",
       "| Vehicle Collision or Pedestrian Struck (with Injury)   |  7027 |\n",
       "\n"
      ],
      "text/plain": [
       "   TYPE                                                   n    \n",
       "1  Break and Enter Commercial                             13553\n",
       "2  Break and Enter Residential/Other                      11953\n",
       "3  Homicide                                                  93\n",
       "4  Mischief                                               34042\n",
       "5  Offence Against a Person                               21087\n",
       "6  Other Theft                                            63346\n",
       "7  Theft from Vehicle                                     70143\n",
       "8  Theft of Bicycle                                       11554\n",
       "9  Theft of Vehicle                                        6623\n",
       "10 Vehicle Collision or Pedestrian Struck (with Fatality)    87\n",
       "11 Vehicle Collision or Pedestrian Struck (with Injury)    7027"
      ]
     },
     "metadata": {},
     "output_type": "display_data"
    }
   ],
   "source": [
    "# Filter for TYPE of data and number of occurences\n",
    "crime_type <- crime %>%\n",
    "    group_by(TYPE) %>%\n",
    "    summarize(n = n())\n",
    "\n",
    "crime_type"
   ]
  },
  {
   "cell_type": "markdown",
   "metadata": {},
   "source": [
    "**Table 3:** Preview of `TYPE` and number of occurences of each crime (2017-2022)"
   ]
  },
  {
   "cell_type": "markdown",
   "metadata": {},
   "source": [
    "Here we can see that we have 11 different categories for crime with the most occurences being 'Theft from Vehicle (70143)', and the least being 'Vehicle Collision or Pedestrian Struck (with Fatality) (87)'. Because we are also only focusing on `Offence Against a Person` from the `TYPE` data, we will filter `TYPE` data."
   ]
  },
  {
   "cell_type": "code",
   "execution_count": 204,
   "metadata": {
    "vscode": {
     "languageId": "r"
    }
   },
   "outputs": [
    {
     "data": {
      "text/html": [
       "<table class=\"dataframe\">\n",
       "<caption>A data.frame: 6 × 10</caption>\n",
       "<thead>\n",
       "\t<tr><th></th><th scope=col>TYPE</th><th scope=col>YEAR</th><th scope=col>MONTH</th><th scope=col>DAY</th><th scope=col>HOUR</th><th scope=col>MINUTE</th><th scope=col>HUNDRED_BLOCK</th><th scope=col>NEIGHBOURHOOD</th><th scope=col>X</th><th scope=col>Y</th></tr>\n",
       "\t<tr><th></th><th scope=col>&lt;chr&gt;</th><th scope=col>&lt;chr&gt;</th><th scope=col>&lt;chr&gt;</th><th scope=col>&lt;chr&gt;</th><th scope=col>&lt;chr&gt;</th><th scope=col>&lt;chr&gt;</th><th scope=col>&lt;chr&gt;</th><th scope=col>&lt;chr&gt;</th><th scope=col>&lt;chr&gt;</th><th scope=col>&lt;chr&gt;</th></tr>\n",
       "</thead>\n",
       "<tbody>\n",
       "\t<tr><th scope=row>1</th><td>Offence Against a Person</td><td>2017</td><td>7 </td><td>1 </td><td>0</td><td>0</td><td>OFFSET TO PROTECT PRIVACY</td><td>West End</td><td>0.0</td><td>0.0</td></tr>\n",
       "\t<tr><th scope=row>2</th><td>Offence Against a Person</td><td>2017</td><td>2 </td><td>14</td><td>0</td><td>0</td><td>OFFSET TO PROTECT PRIVACY</td><td>West End</td><td>0.0</td><td>0.0</td></tr>\n",
       "\t<tr><th scope=row>3</th><td>Offence Against a Person</td><td>2017</td><td>5 </td><td>28</td><td>0</td><td>0</td><td>OFFSET TO PROTECT PRIVACY</td><td>West End</td><td>0.0</td><td>0.0</td></tr>\n",
       "\t<tr><th scope=row>4</th><td>Offence Against a Person</td><td>2017</td><td>9 </td><td>22</td><td>0</td><td>0</td><td>OFFSET TO PROTECT PRIVACY</td><td>West End</td><td>0.0</td><td>0.0</td></tr>\n",
       "\t<tr><th scope=row>5</th><td>Offence Against a Person</td><td>2017</td><td>7 </td><td>1 </td><td>0</td><td>0</td><td>OFFSET TO PROTECT PRIVACY</td><td>West End</td><td>0.0</td><td>0.0</td></tr>\n",
       "\t<tr><th scope=row>6</th><td>Offence Against a Person</td><td>2017</td><td>10</td><td>31</td><td>0</td><td>0</td><td>OFFSET TO PROTECT PRIVACY</td><td>West End</td><td>0.0</td><td>0.0</td></tr>\n",
       "</tbody>\n",
       "</table>\n"
      ],
      "text/latex": [
       "A data.frame: 6 × 10\n",
       "\\begin{tabular}{r|llllllllll}\n",
       "  & TYPE & YEAR & MONTH & DAY & HOUR & MINUTE & HUNDRED\\_BLOCK & NEIGHBOURHOOD & X & Y\\\\\n",
       "  & <chr> & <chr> & <chr> & <chr> & <chr> & <chr> & <chr> & <chr> & <chr> & <chr>\\\\\n",
       "\\hline\n",
       "\t1 & Offence Against a Person & 2017 & 7  & 1  & 0 & 0 & OFFSET TO PROTECT PRIVACY & West End & 0.0 & 0.0\\\\\n",
       "\t2 & Offence Against a Person & 2017 & 2  & 14 & 0 & 0 & OFFSET TO PROTECT PRIVACY & West End & 0.0 & 0.0\\\\\n",
       "\t3 & Offence Against a Person & 2017 & 5  & 28 & 0 & 0 & OFFSET TO PROTECT PRIVACY & West End & 0.0 & 0.0\\\\\n",
       "\t4 & Offence Against a Person & 2017 & 9  & 22 & 0 & 0 & OFFSET TO PROTECT PRIVACY & West End & 0.0 & 0.0\\\\\n",
       "\t5 & Offence Against a Person & 2017 & 7  & 1  & 0 & 0 & OFFSET TO PROTECT PRIVACY & West End & 0.0 & 0.0\\\\\n",
       "\t6 & Offence Against a Person & 2017 & 10 & 31 & 0 & 0 & OFFSET TO PROTECT PRIVACY & West End & 0.0 & 0.0\\\\\n",
       "\\end{tabular}\n"
      ],
      "text/markdown": [
       "\n",
       "A data.frame: 6 × 10\n",
       "\n",
       "| <!--/--> | TYPE &lt;chr&gt; | YEAR &lt;chr&gt; | MONTH &lt;chr&gt; | DAY &lt;chr&gt; | HOUR &lt;chr&gt; | MINUTE &lt;chr&gt; | HUNDRED_BLOCK &lt;chr&gt; | NEIGHBOURHOOD &lt;chr&gt; | X &lt;chr&gt; | Y &lt;chr&gt; |\n",
       "|---|---|---|---|---|---|---|---|---|---|---|\n",
       "| 1 | Offence Against a Person | 2017 | 7  | 1  | 0 | 0 | OFFSET TO PROTECT PRIVACY | West End | 0.0 | 0.0 |\n",
       "| 2 | Offence Against a Person | 2017 | 2  | 14 | 0 | 0 | OFFSET TO PROTECT PRIVACY | West End | 0.0 | 0.0 |\n",
       "| 3 | Offence Against a Person | 2017 | 5  | 28 | 0 | 0 | OFFSET TO PROTECT PRIVACY | West End | 0.0 | 0.0 |\n",
       "| 4 | Offence Against a Person | 2017 | 9  | 22 | 0 | 0 | OFFSET TO PROTECT PRIVACY | West End | 0.0 | 0.0 |\n",
       "| 5 | Offence Against a Person | 2017 | 7  | 1  | 0 | 0 | OFFSET TO PROTECT PRIVACY | West End | 0.0 | 0.0 |\n",
       "| 6 | Offence Against a Person | 2017 | 10 | 31 | 0 | 0 | OFFSET TO PROTECT PRIVACY | West End | 0.0 | 0.0 |\n",
       "\n"
      ],
      "text/plain": [
       "  TYPE                     YEAR MONTH DAY HOUR MINUTE HUNDRED_BLOCK            \n",
       "1 Offence Against a Person 2017 7     1   0    0      OFFSET TO PROTECT PRIVACY\n",
       "2 Offence Against a Person 2017 2     14  0    0      OFFSET TO PROTECT PRIVACY\n",
       "3 Offence Against a Person 2017 5     28  0    0      OFFSET TO PROTECT PRIVACY\n",
       "4 Offence Against a Person 2017 9     22  0    0      OFFSET TO PROTECT PRIVACY\n",
       "5 Offence Against a Person 2017 7     1   0    0      OFFSET TO PROTECT PRIVACY\n",
       "6 Offence Against a Person 2017 10    31  0    0      OFFSET TO PROTECT PRIVACY\n",
       "  NEIGHBOURHOOD X   Y  \n",
       "1 West End      0.0 0.0\n",
       "2 West End      0.0 0.0\n",
       "3 West End      0.0 0.0\n",
       "4 West End      0.0 0.0\n",
       "5 West End      0.0 0.0\n",
       "6 West End      0.0 0.0"
      ]
     },
     "metadata": {},
     "output_type": "display_data"
    }
   ],
   "source": [
    "# Filtering `Type`\n",
    "crime <- crime %>%\n",
    "        filter((TYPE == \"Offence Against a Person\"))\n",
    "\n",
    "head(crime)"
   ]
  },
  {
   "cell_type": "markdown",
   "metadata": {},
   "source": [
    "**Table 4:** Preview of `Offence Against a Person` crime `TYPE`"
   ]
  },
  {
   "cell_type": "markdown",
   "metadata": {},
   "source": [
    "### 3. Plots"
   ]
  },
  {
   "cell_type": "markdown",
   "metadata": {},
   "source": [
    "Now we can do a simple plot of `Offence Against a Person` crime rate from 2017-2022 to see its general tendency."
   ]
  },
  {
   "cell_type": "code",
   "execution_count": 205,
   "metadata": {
    "vscode": {
     "languageId": "r"
    }
   },
   "outputs": [
    {
     "data": {
      "image/png": "[encoded data removed]",
      "text/plain": [
       "plot without title"
      ]
     },
     "metadata": {
      "image/png": {
       "height": 720,
       "width": 720
      }
     },
     "output_type": "display_data"
    }
   ],
   "source": [
    "# Group Data by YEAR\n",
    "annual_offence_crime <- crime %>%\n",
    "               group_by(YEAR) %>%\n",
    "               summarise(CRIME = n())\n",
    "\n",
    "# Plot Annual Crime Data vs. Year\n",
    "annual_offence_crime_plot <- annual_offence_crime %>%\n",
    "               ggplot(aes(x = YEAR, y = CRIME, group = 1)) +\n",
    "               geom_line(size = 1, alpha = 0.8) +\n",
    "               geom_point() +\n",
    "               ggtitle(\"Offence Against a Person Crime Rate\") +\n",
    "               labs(x = \"Year\", y = \"Number of Occurences\") +\n",
    "               theme(text = element_text(size = 20))\n",
    "\n",
    "options(repr.plot.width = 12, repr.plot.height = 12)\n",
    "\n",
    "annual_offence_crime_plot"
   ]
  },
  {
   "cell_type": "markdown",
   "metadata": {},
   "source": [
    "**Figure 1:** Line Graph for Number of of Offences Against a Person per Year."
   ]
  },
  {
   "cell_type": "markdown",
   "metadata": {},
   "source": [
    "From the visualized plot above, we can observe that since the outbreak of COVID-19 occurred in 2019, the crime ratio had a precipitous increase. We assume that the pandemic increased social disputes and offences potentially because of lay offs and isolation which may have impacted many mentally and financially.\n",
    "\n",
    "According to the background of the pandemic, we would do analysis at specific locations using the `NEIGHBOURHOOD` column. Therefore, we would first filter out the columns not required, to simplify the chart."
   ]
  },
  {
   "cell_type": "code",
   "execution_count": 206,
   "metadata": {
    "vscode": {
     "languageId": "r"
    }
   },
   "outputs": [
    {
     "data": {
      "text/html": [
       "<table class=\"dataframe\">\n",
       "<caption>A data.frame: 6 × 5</caption>\n",
       "<thead>\n",
       "\t<tr><th></th><th scope=col>TYPE</th><th scope=col>YEAR</th><th scope=col>MONTH</th><th scope=col>DAY</th><th scope=col>NEIGHBOURHOOD</th></tr>\n",
       "\t<tr><th></th><th scope=col>&lt;chr&gt;</th><th scope=col>&lt;chr&gt;</th><th scope=col>&lt;chr&gt;</th><th scope=col>&lt;chr&gt;</th><th scope=col>&lt;chr&gt;</th></tr>\n",
       "</thead>\n",
       "<tbody>\n",
       "\t<tr><th scope=row>1</th><td>Offence Against a Person</td><td>2017</td><td>7 </td><td>1 </td><td>West End</td></tr>\n",
       "\t<tr><th scope=row>2</th><td>Offence Against a Person</td><td>2017</td><td>2 </td><td>14</td><td>West End</td></tr>\n",
       "\t<tr><th scope=row>3</th><td>Offence Against a Person</td><td>2017</td><td>5 </td><td>28</td><td>West End</td></tr>\n",
       "\t<tr><th scope=row>4</th><td>Offence Against a Person</td><td>2017</td><td>9 </td><td>22</td><td>West End</td></tr>\n",
       "\t<tr><th scope=row>5</th><td>Offence Against a Person</td><td>2017</td><td>7 </td><td>1 </td><td>West End</td></tr>\n",
       "\t<tr><th scope=row>6</th><td>Offence Against a Person</td><td>2017</td><td>10</td><td>31</td><td>West End</td></tr>\n",
       "</tbody>\n",
       "</table>\n"
      ],
      "text/latex": [
       "A data.frame: 6 × 5\n",
       "\\begin{tabular}{r|lllll}\n",
       "  & TYPE & YEAR & MONTH & DAY & NEIGHBOURHOOD\\\\\n",
       "  & <chr> & <chr> & <chr> & <chr> & <chr>\\\\\n",
       "\\hline\n",
       "\t1 & Offence Against a Person & 2017 & 7  & 1  & West End\\\\\n",
       "\t2 & Offence Against a Person & 2017 & 2  & 14 & West End\\\\\n",
       "\t3 & Offence Against a Person & 2017 & 5  & 28 & West End\\\\\n",
       "\t4 & Offence Against a Person & 2017 & 9  & 22 & West End\\\\\n",
       "\t5 & Offence Against a Person & 2017 & 7  & 1  & West End\\\\\n",
       "\t6 & Offence Against a Person & 2017 & 10 & 31 & West End\\\\\n",
       "\\end{tabular}\n"
      ],
      "text/markdown": [
       "\n",
       "A data.frame: 6 × 5\n",
       "\n",
       "| <!--/--> | TYPE &lt;chr&gt; | YEAR &lt;chr&gt; | MONTH &lt;chr&gt; | DAY &lt;chr&gt; | NEIGHBOURHOOD &lt;chr&gt; |\n",
       "|---|---|---|---|---|---|\n",
       "| 1 | Offence Against a Person | 2017 | 7  | 1  | West End |\n",
       "| 2 | Offence Against a Person | 2017 | 2  | 14 | West End |\n",
       "| 3 | Offence Against a Person | 2017 | 5  | 28 | West End |\n",
       "| 4 | Offence Against a Person | 2017 | 9  | 22 | West End |\n",
       "| 5 | Offence Against a Person | 2017 | 7  | 1  | West End |\n",
       "| 6 | Offence Against a Person | 2017 | 10 | 31 | West End |\n",
       "\n"
      ],
      "text/plain": [
       "  TYPE                     YEAR MONTH DAY NEIGHBOURHOOD\n",
       "1 Offence Against a Person 2017 7     1   West End     \n",
       "2 Offence Against a Person 2017 2     14  West End     \n",
       "3 Offence Against a Person 2017 5     28  West End     \n",
       "4 Offence Against a Person 2017 9     22  West End     \n",
       "5 Offence Against a Person 2017 7     1   West End     \n",
       "6 Offence Against a Person 2017 10    31  West End     "
      ]
     },
     "metadata": {},
     "output_type": "display_data"
    }
   ],
   "source": [
    "# Selecting Columns\n",
    "crime <- crime %>%\n",
    "     select(TYPE, YEAR, MONTH, DAY, NEIGHBOURHOOD)\n",
    "\n",
    "head(crime)"
   ]
  },
  {
   "cell_type": "markdown",
   "metadata": {},
   "source": [
    "**Table 5:** Dataframe with the required columns."
   ]
  },
  {
   "cell_type": "markdown",
   "metadata": {},
   "source": [
    "Now we have a a clean dataset ready for more analysis!"
   ]
  },
  {
   "cell_type": "markdown",
   "metadata": {},
   "source": [
    "### 4. Comparing Crime Rates at different `NEIGHBOURHOODS`'s before and during COVID"
   ]
  },
  {
   "cell_type": "markdown",
   "metadata": {},
   "source": [
    "Next, we would visualize this comparison as a plot by grouping by `NEIGHBOURHOOD` and `YEAR` and observing where this type of crime happened more frequently.\n",
    "\n",
    "For the column `YEAR`, because we treat the outbreak of COVID-19 as the time point, we would combine the data of 2017-2019, and 2020-2022 together respectively."
   ]
  },
  {
   "cell_type": "code",
   "execution_count": 207,
   "metadata": {
    "vscode": {
     "languageId": "r"
    }
   },
   "outputs": [
    {
     "data": {
      "text/html": [
       "<table class=\"dataframe\">\n",
       "<caption>A matrix: 26 × 2 of type chr</caption>\n",
       "<tbody>\n",
       "\t<tr><th scope=row>COVID_OUTBREAK</th><td>Before_COVID</td><td>During_COVID</td></tr>\n",
       "\t<tr><th scope=row>V1</th><td>6           </td><td>7           </td></tr>\n",
       "\t<tr><th scope=row>Arbutus Ridge</th><td>34          </td><td>51          </td></tr>\n",
       "\t<tr><th scope=row>Central Business District</th><td>3297        </td><td>3902        </td></tr>\n",
       "\t<tr><th scope=row>Dunbar-Southlands</th><td>50          </td><td>66          </td></tr>\n",
       "\t<tr><th scope=row>Fairview</th><td>223         </td><td>292         </td></tr>\n",
       "\t<tr><th scope=row>Grandview-Woodland</th><td>592         </td><td>659         </td></tr>\n",
       "\t<tr><th scope=row>Hastings-Sunrise</th><td>264         </td><td>297         </td></tr>\n",
       "\t<tr><th scope=row>Kensington-Cedar Cottage</th><td>369         </td><td>413         </td></tr>\n",
       "\t<tr><th scope=row>Kerrisdale</th><td>47          </td><td>52          </td></tr>\n",
       "\t<tr><th scope=row>Killarney</th><td>152         </td><td>166         </td></tr>\n",
       "\t<tr><th scope=row>Kitsilano</th><td>209         </td><td>190         </td></tr>\n",
       "\t<tr><th scope=row>Marpole</th><td>195         </td><td>231         </td></tr>\n",
       "\t<tr><th scope=row>Mount Pleasant</th><td>458         </td><td>528         </td></tr>\n",
       "\t<tr><th scope=row>Musqueam</th><td>37          </td><td>33          </td></tr>\n",
       "\t<tr><th scope=row>Oakridge</th><td>74          </td><td>87          </td></tr>\n",
       "\t<tr><th scope=row>Renfrew-Collingwood</th><td>399         </td><td>414         </td></tr>\n",
       "\t<tr><th scope=row>Riley Park</th><td>121         </td><td>124         </td></tr>\n",
       "\t<tr><th scope=row>Shaughnessy</th><td>38          </td><td>58          </td></tr>\n",
       "\t<tr><th scope=row>South Cambie</th><td>47          </td><td>66          </td></tr>\n",
       "\t<tr><th scope=row>Stanley Park</th><td>40          </td><td>39          </td></tr>\n",
       "\t<tr><th scope=row>Strathcona</th><td>1467        </td><td>1721        </td></tr>\n",
       "\t<tr><th scope=row>Sunset</th><td>237         </td><td>273         </td></tr>\n",
       "\t<tr><th scope=row>Victoria-Fraserview</th><td>143         </td><td>161         </td></tr>\n",
       "\t<tr><th scope=row>West End</th><td>1158        </td><td>1492        </td></tr>\n",
       "\t<tr><th scope=row>West Point Grey</th><td>59          </td><td>49          </td></tr>\n",
       "</tbody>\n",
       "</table>\n"
      ],
      "text/latex": [
       "A matrix: 26 × 2 of type chr\n",
       "\\begin{tabular}{r|ll}\n",
       "\tCOVID\\_OUTBREAK & Before\\_COVID & During\\_COVID\\\\\n",
       "\tV1 & 6            & 7           \\\\\n",
       "\tArbutus Ridge & 34           & 51          \\\\\n",
       "\tCentral Business District & 3297         & 3902        \\\\\n",
       "\tDunbar-Southlands & 50           & 66          \\\\\n",
       "\tFairview & 223          & 292         \\\\\n",
       "\tGrandview-Woodland & 592          & 659         \\\\\n",
       "\tHastings-Sunrise & 264          & 297         \\\\\n",
       "\tKensington-Cedar Cottage & 369          & 413         \\\\\n",
       "\tKerrisdale & 47           & 52          \\\\\n",
       "\tKillarney & 152          & 166         \\\\\n",
       "\tKitsilano & 209          & 190         \\\\\n",
       "\tMarpole & 195          & 231         \\\\\n",
       "\tMount Pleasant & 458          & 528         \\\\\n",
       "\tMusqueam & 37           & 33          \\\\\n",
       "\tOakridge & 74           & 87          \\\\\n",
       "\tRenfrew-Collingwood & 399          & 414         \\\\\n",
       "\tRiley Park & 121          & 124         \\\\\n",
       "\tShaughnessy & 38           & 58          \\\\\n",
       "\tSouth Cambie & 47           & 66          \\\\\n",
       "\tStanley Park & 40           & 39          \\\\\n",
       "\tStrathcona & 1467         & 1721        \\\\\n",
       "\tSunset & 237          & 273         \\\\\n",
       "\tVictoria-Fraserview & 143          & 161         \\\\\n",
       "\tWest End & 1158         & 1492        \\\\\n",
       "\tWest Point Grey & 59           & 49          \\\\\n",
       "\\end{tabular}\n"
      ],
      "text/markdown": [
       "\n",
       "A matrix: 26 × 2 of type chr\n",
       "\n",
       "| COVID_OUTBREAK | Before_COVID | During_COVID |\n",
       "| V1 | 6            | 7            |\n",
       "| Arbutus Ridge | 34           | 51           |\n",
       "| Central Business District | 3297         | 3902         |\n",
       "| Dunbar-Southlands | 50           | 66           |\n",
       "| Fairview | 223          | 292          |\n",
       "| Grandview-Woodland | 592          | 659          |\n",
       "| Hastings-Sunrise | 264          | 297          |\n",
       "| Kensington-Cedar Cottage | 369          | 413          |\n",
       "| Kerrisdale | 47           | 52           |\n",
       "| Killarney | 152          | 166          |\n",
       "| Kitsilano | 209          | 190          |\n",
       "| Marpole | 195          | 231          |\n",
       "| Mount Pleasant | 458          | 528          |\n",
       "| Musqueam | 37           | 33           |\n",
       "| Oakridge | 74           | 87           |\n",
       "| Renfrew-Collingwood | 399          | 414          |\n",
       "| Riley Park | 121          | 124          |\n",
       "| Shaughnessy | 38           | 58           |\n",
       "| South Cambie | 47           | 66           |\n",
       "| Stanley Park | 40           | 39           |\n",
       "| Strathcona | 1467         | 1721         |\n",
       "| Sunset | 237          | 273          |\n",
       "| Victoria-Fraserview | 143          | 161          |\n",
       "| West End | 1158         | 1492         |\n",
       "| West Point Grey | 59           | 49           |\n",
       "\n"
      ],
      "text/plain": [
       "                          [,1]         [,2]        \n",
       "COVID_OUTBREAK            Before_COVID During_COVID\n",
       "V1                        6            7           \n",
       "Arbutus Ridge             34           51          \n",
       "Central Business District 3297         3902        \n",
       "Dunbar-Southlands         50           66          \n",
       "Fairview                  223          292         \n",
       "Grandview-Woodland        592          659         \n",
       "Hastings-Sunrise          264          297         \n",
       "Kensington-Cedar Cottage  369          413         \n",
       "Kerrisdale                47           52          \n",
       "Killarney                 152          166         \n",
       "Kitsilano                 209          190         \n",
       "Marpole                   195          231         \n",
       "Mount Pleasant            458          528         \n",
       "Musqueam                  37           33          \n",
       "Oakridge                  74           87          \n",
       "Renfrew-Collingwood       399          414         \n",
       "Riley Park                121          124         \n",
       "Shaughnessy               38           58          \n",
       "South Cambie              47           66          \n",
       "Stanley Park              40           39          \n",
       "Strathcona                1467         1721        \n",
       "Sunset                    237          273         \n",
       "Victoria-Fraserview       143          161         \n",
       "West End                  1158         1492        \n",
       "West Point Grey           59           49          "
      ]
     },
     "metadata": {},
     "output_type": "display_data"
    }
   ],
   "source": [
    "# Refactor `YEAR` column into `COVID_OUTBREAK` column\n",
    "out_break <- crime %>%\n",
    "    mutate(COVID_OUTBREAK = case_when(\n",
    "        YEAR <= 2019 ~ \"Before_COVID\",\n",
    "        YEAR >= 2020 ~ \"During_COVID\"\n",
    "    ))\n",
    "\n",
    "# Group by `NEIGHBOURHOOD` and `COVID_OUTBREAK` for analysis\n",
    "criming <- out_break %>%\n",
    "    group_by(NEIGHBOURHOOD, COVID_OUTBREAK) %>%\n",
    "    count() %>%\n",
    "    spread(key = NEIGHBOURHOOD, value = n, fill = 0)\n",
    "\n",
    "transposed_crime <- t(criming)\n",
    "\n",
    "transposed_crime"
   ]
  },
  {
   "cell_type": "markdown",
   "metadata": {},
   "source": [
    "**Table 6:** Before and During COVID crime rates' of different `NEIGHBOURHOODS` for `Offence Against a Person`"
   ]
  },
  {
   "cell_type": "markdown",
   "metadata": {},
   "source": [
    "Now the data is generally clean and we have necessary knowledge to explore the dataset more!"
   ]
  },
  {
   "cell_type": "markdown",
   "metadata": {},
   "source": [
    "# Exploring the dataset"
   ]
  },
  {
   "cell_type": "markdown",
   "metadata": {},
   "source": [
    "We have the general data of the amount of offences before covid and during covid in `NEIGHBOURHOOD`'s, and now we can visualize them to do a comparison and observe which `NEIGHBOURHOOD` has an abnormal change."
   ]
  },
  {
   "cell_type": "code",
   "execution_count": 208,
   "metadata": {
    "vscode": {
     "languageId": "r"
    }
   },
   "outputs": [
    {
     "data": {
      "image/png": "[encoded data removed]",
      "text/plain": [
       "plot without title"
      ]
     },
     "metadata": {
      "image/png": {
       "height": 720,
       "width": 720
      }
     },
     "output_type": "display_data"
    }
   ],
   "source": [
    "options(repr.plot.width = 12, repr.plot.height = 12)\n",
    "\n",
    "# Set Seed for Reproducible Analysis\n",
    "set.seed(123)\n",
    "\n",
    "# Transforming criming into DF\n",
    "frame_crime <- as.data.frame(criming)\n",
    "\n",
    "# Transforming frame_crime DF\n",
    "frame_crime_long <- pivot_longer(frame_crime, \n",
    "                                 -COVID_OUTBREAK,\n",
    "                                 names_to = \"Neighbourhood\",\n",
    "                                 values_to = \"Value\")\n",
    "\n",
    "# Plotting Neighbourhood Crime Before vs. During COVID\n",
    "diff_crime_plot <- frame_crime_long %>%\n",
    "    ggplot(aes(x = Neighbourhood, y = Value, fill = COVID_OUTBREAK)) +\n",
    "    geom_bar(stat = \"identity\", position = \"dodge\") +\n",
    "    scale_fill_manual(values = c(\"#005AB5\", \"#DC3220\")) + # Using Colourblind Friendly Colours\n",
    "    labs(x = \"Neighbouhood\", y = \"Count\", fill = \"COVID_OUTBREAK\") +\n",
    "    ggtitle(\"Neighbourhood Offences Before and During COVID\") +\n",
    "    theme(axis.text.x = element_text(angle = 75, vjust = 1, hjust = 1),\n",
    "          axis.text = element_text(size = 16),\n",
    "          axis.title = element_text(size = 20))\n",
    "\n",
    "diff_crime_plot"
   ]
  },
  {
   "cell_type": "markdown",
   "metadata": {},
   "source": [
    "**Figure 2:** Bar Chart for occurence of Offences Before and During COVID."
   ]
  },
  {
   "cell_type": "markdown",
   "metadata": {},
   "source": [
    "As we can see from the bar chart above, the ratio of offences have generally increased, while some of them have increased/decreased only slightly. By observing, we find `'Central Business District'` and `'Strathcona'` and `'West End'` to have a significant increase  compared to other `NEIGHBORUHOOD`'s.\n",
    "\n",
    "Now we would like to analyze the overall change in `Offence Against a Person` from 2017 to 2022."
   ]
  },
  {
   "cell_type": "markdown",
   "metadata": {},
   "source": [
    "### 5. Analyzing Crime 'TYPE' `Offence Against a Person`"
   ]
  },
  {
   "cell_type": "code",
   "execution_count": 209,
   "metadata": {
    "vscode": {
     "languageId": "r"
    }
   },
   "outputs": [
    {
     "data": {
      "text/html": [
       "<table class=\"dataframe\">\n",
       "<caption>A data.frame: 6 × 4</caption>\n",
       "<thead>\n",
       "\t<tr><th></th><th scope=col>YEAR</th><th scope=col>MONTH</th><th scope=col>DAY</th><th scope=col>NEIGHBOURHOOD</th></tr>\n",
       "\t<tr><th></th><th scope=col>&lt;chr&gt;</th><th scope=col>&lt;chr&gt;</th><th scope=col>&lt;chr&gt;</th><th scope=col>&lt;chr&gt;</th></tr>\n",
       "</thead>\n",
       "<tbody>\n",
       "\t<tr><th scope=row>1</th><td>2017</td><td>7 </td><td>1 </td><td>West End</td></tr>\n",
       "\t<tr><th scope=row>2</th><td>2017</td><td>2 </td><td>14</td><td>West End</td></tr>\n",
       "\t<tr><th scope=row>3</th><td>2017</td><td>5 </td><td>28</td><td>West End</td></tr>\n",
       "\t<tr><th scope=row>4</th><td>2017</td><td>9 </td><td>22</td><td>West End</td></tr>\n",
       "\t<tr><th scope=row>5</th><td>2017</td><td>7 </td><td>1 </td><td>West End</td></tr>\n",
       "\t<tr><th scope=row>6</th><td>2017</td><td>10</td><td>31</td><td>West End</td></tr>\n",
       "</tbody>\n",
       "</table>\n"
      ],
      "text/latex": [
       "A data.frame: 6 × 4\n",
       "\\begin{tabular}{r|llll}\n",
       "  & YEAR & MONTH & DAY & NEIGHBOURHOOD\\\\\n",
       "  & <chr> & <chr> & <chr> & <chr>\\\\\n",
       "\\hline\n",
       "\t1 & 2017 & 7  & 1  & West End\\\\\n",
       "\t2 & 2017 & 2  & 14 & West End\\\\\n",
       "\t3 & 2017 & 5  & 28 & West End\\\\\n",
       "\t4 & 2017 & 9  & 22 & West End\\\\\n",
       "\t5 & 2017 & 7  & 1  & West End\\\\\n",
       "\t6 & 2017 & 10 & 31 & West End\\\\\n",
       "\\end{tabular}\n"
      ],
      "text/markdown": [
       "\n",
       "A data.frame: 6 × 4\n",
       "\n",
       "| <!--/--> | YEAR &lt;chr&gt; | MONTH &lt;chr&gt; | DAY &lt;chr&gt; | NEIGHBOURHOOD &lt;chr&gt; |\n",
       "|---|---|---|---|---|\n",
       "| 1 | 2017 | 7  | 1  | West End |\n",
       "| 2 | 2017 | 2  | 14 | West End |\n",
       "| 3 | 2017 | 5  | 28 | West End |\n",
       "| 4 | 2017 | 9  | 22 | West End |\n",
       "| 5 | 2017 | 7  | 1  | West End |\n",
       "| 6 | 2017 | 10 | 31 | West End |\n",
       "\n"
      ],
      "text/plain": [
       "  YEAR MONTH DAY NEIGHBOURHOOD\n",
       "1 2017 7     1   West End     \n",
       "2 2017 2     14  West End     \n",
       "3 2017 5     28  West End     \n",
       "4 2017 9     22  West End     \n",
       "5 2017 7     1   West End     \n",
       "6 2017 10    31  West End     "
      ]
     },
     "metadata": {},
     "output_type": "display_data"
    }
   ],
   "source": [
    "# Filtering Crime 'TYPE' to be `Offence Against a Person`\n",
    "crime_for_offence <- crime %>%\n",
    "    filter(TYPE == \"Offence Against a Person\") %>%\n",
    "    select('YEAR','MONTH', 'DAY', 'NEIGHBOURHOOD')\n",
    "\n",
    "head(crime_for_offence)"
   ]
  },
  {
   "cell_type": "markdown",
   "metadata": {},
   "source": [
    "**Table 6:** Preview of data on Crime TYPE: `'Offence Against a Person'`"
   ]
  },
  {
   "cell_type": "markdown",
   "metadata": {},
   "source": [
    "Now we convert `YEAR` and `MONTH` columns to a date format and seperate the time as before and after the outbreak of COVID-19.\n",
    "\n",
    "*(Y/M/D)*\n",
    "\n",
    "**Before COVID:** *2017-01-01* to *2019-12-31*\n",
    "\n",
    "**After COVID:**  *2020-01-01* to *2022-12-31*"
   ]
  },
  {
   "cell_type": "code",
   "execution_count": 210,
   "metadata": {
    "vscode": {
     "languageId": "r"
    }
   },
   "outputs": [
    {
     "data": {
      "text/html": [
       "<table class=\"dataframe\">\n",
       "<caption>A data.frame: 6 × 6</caption>\n",
       "<thead>\n",
       "\t<tr><th></th><th scope=col>YEAR</th><th scope=col>MONTH</th><th scope=col>DAY</th><th scope=col>NEIGHBOURHOOD</th><th scope=col>DATE</th><th scope=col>OUTBREAK</th></tr>\n",
       "\t<tr><th></th><th scope=col>&lt;chr&gt;</th><th scope=col>&lt;chr&gt;</th><th scope=col>&lt;chr&gt;</th><th scope=col>&lt;chr&gt;</th><th scope=col>&lt;date&gt;</th><th scope=col>&lt;chr&gt;</th></tr>\n",
       "</thead>\n",
       "<tbody>\n",
       "\t<tr><th scope=row>1</th><td>2017</td><td>7 </td><td>1 </td><td>West End</td><td>2017-07-01</td><td>Before</td></tr>\n",
       "\t<tr><th scope=row>2</th><td>2017</td><td>2 </td><td>14</td><td>West End</td><td>2017-02-01</td><td>Before</td></tr>\n",
       "\t<tr><th scope=row>3</th><td>2017</td><td>5 </td><td>28</td><td>West End</td><td>2017-05-01</td><td>Before</td></tr>\n",
       "\t<tr><th scope=row>4</th><td>2017</td><td>9 </td><td>22</td><td>West End</td><td>2017-09-01</td><td>Before</td></tr>\n",
       "\t<tr><th scope=row>5</th><td>2017</td><td>7 </td><td>1 </td><td>West End</td><td>2017-07-01</td><td>Before</td></tr>\n",
       "\t<tr><th scope=row>6</th><td>2017</td><td>10</td><td>31</td><td>West End</td><td>2017-10-01</td><td>Before</td></tr>\n",
       "</tbody>\n",
       "</table>\n"
      ],
      "text/latex": [
       "A data.frame: 6 × 6\n",
       "\\begin{tabular}{r|llllll}\n",
       "  & YEAR & MONTH & DAY & NEIGHBOURHOOD & DATE & OUTBREAK\\\\\n",
       "  & <chr> & <chr> & <chr> & <chr> & <date> & <chr>\\\\\n",
       "\\hline\n",
       "\t1 & 2017 & 7  & 1  & West End & 2017-07-01 & Before\\\\\n",
       "\t2 & 2017 & 2  & 14 & West End & 2017-02-01 & Before\\\\\n",
       "\t3 & 2017 & 5  & 28 & West End & 2017-05-01 & Before\\\\\n",
       "\t4 & 2017 & 9  & 22 & West End & 2017-09-01 & Before\\\\\n",
       "\t5 & 2017 & 7  & 1  & West End & 2017-07-01 & Before\\\\\n",
       "\t6 & 2017 & 10 & 31 & West End & 2017-10-01 & Before\\\\\n",
       "\\end{tabular}\n"
      ],
      "text/markdown": [
       "\n",
       "A data.frame: 6 × 6\n",
       "\n",
       "| <!--/--> | YEAR &lt;chr&gt; | MONTH &lt;chr&gt; | DAY &lt;chr&gt; | NEIGHBOURHOOD &lt;chr&gt; | DATE &lt;date&gt; | OUTBREAK &lt;chr&gt; |\n",
       "|---|---|---|---|---|---|---|\n",
       "| 1 | 2017 | 7  | 1  | West End | 2017-07-01 | Before |\n",
       "| 2 | 2017 | 2  | 14 | West End | 2017-02-01 | Before |\n",
       "| 3 | 2017 | 5  | 28 | West End | 2017-05-01 | Before |\n",
       "| 4 | 2017 | 9  | 22 | West End | 2017-09-01 | Before |\n",
       "| 5 | 2017 | 7  | 1  | West End | 2017-07-01 | Before |\n",
       "| 6 | 2017 | 10 | 31 | West End | 2017-10-01 | Before |\n",
       "\n"
      ],
      "text/plain": [
       "  YEAR MONTH DAY NEIGHBOURHOOD DATE       OUTBREAK\n",
       "1 2017 7     1   West End      2017-07-01 Before  \n",
       "2 2017 2     14  West End      2017-02-01 Before  \n",
       "3 2017 5     28  West End      2017-05-01 Before  \n",
       "4 2017 9     22  West End      2017-09-01 Before  \n",
       "5 2017 7     1   West End      2017-07-01 Before  \n",
       "6 2017 10    31  West End      2017-10-01 Before  "
      ]
     },
     "metadata": {},
     "output_type": "display_data"
    },
    {
     "data": {
      "text/html": [
       "<table class=\"dataframe\">\n",
       "<caption>A data.frame: 6 × 6</caption>\n",
       "<thead>\n",
       "\t<tr><th></th><th scope=col>YEAR</th><th scope=col>MONTH</th><th scope=col>DAY</th><th scope=col>NEIGHBOURHOOD</th><th scope=col>DATE</th><th scope=col>OUTBREAK</th></tr>\n",
       "\t<tr><th></th><th scope=col>&lt;chr&gt;</th><th scope=col>&lt;chr&gt;</th><th scope=col>&lt;chr&gt;</th><th scope=col>&lt;chr&gt;</th><th scope=col>&lt;date&gt;</th><th scope=col>&lt;chr&gt;</th></tr>\n",
       "</thead>\n",
       "<tbody>\n",
       "\t<tr><th scope=row>21082</th><td>2022</td><td>8 </td><td>23</td><td>Strathcona</td><td>2022-08-01</td><td>After</td></tr>\n",
       "\t<tr><th scope=row>21083</th><td>2022</td><td>9 </td><td>3 </td><td>Strathcona</td><td>2022-09-01</td><td>After</td></tr>\n",
       "\t<tr><th scope=row>21084</th><td>2022</td><td>9 </td><td>19</td><td>Strathcona</td><td>2022-09-01</td><td>After</td></tr>\n",
       "\t<tr><th scope=row>21085</th><td>2022</td><td>10</td><td>4 </td><td>Strathcona</td><td>2022-10-01</td><td>After</td></tr>\n",
       "\t<tr><th scope=row>21086</th><td>2022</td><td>10</td><td>20</td><td>Strathcona</td><td>2022-10-01</td><td>After</td></tr>\n",
       "\t<tr><th scope=row>21087</th><td>2022</td><td>11</td><td>4 </td><td>Strathcona</td><td>2022-11-01</td><td>After</td></tr>\n",
       "</tbody>\n",
       "</table>\n"
      ],
      "text/latex": [
       "A data.frame: 6 × 6\n",
       "\\begin{tabular}{r|llllll}\n",
       "  & YEAR & MONTH & DAY & NEIGHBOURHOOD & DATE & OUTBREAK\\\\\n",
       "  & <chr> & <chr> & <chr> & <chr> & <date> & <chr>\\\\\n",
       "\\hline\n",
       "\t21082 & 2022 & 8  & 23 & Strathcona & 2022-08-01 & After\\\\\n",
       "\t21083 & 2022 & 9  & 3  & Strathcona & 2022-09-01 & After\\\\\n",
       "\t21084 & 2022 & 9  & 19 & Strathcona & 2022-09-01 & After\\\\\n",
       "\t21085 & 2022 & 10 & 4  & Strathcona & 2022-10-01 & After\\\\\n",
       "\t21086 & 2022 & 10 & 20 & Strathcona & 2022-10-01 & After\\\\\n",
       "\t21087 & 2022 & 11 & 4  & Strathcona & 2022-11-01 & After\\\\\n",
       "\\end{tabular}\n"
      ],
      "text/markdown": [
       "\n",
       "A data.frame: 6 × 6\n",
       "\n",
       "| <!--/--> | YEAR &lt;chr&gt; | MONTH &lt;chr&gt; | DAY &lt;chr&gt; | NEIGHBOURHOOD &lt;chr&gt; | DATE &lt;date&gt; | OUTBREAK &lt;chr&gt; |\n",
       "|---|---|---|---|---|---|---|\n",
       "| 21082 | 2022 | 8  | 23 | Strathcona | 2022-08-01 | After |\n",
       "| 21083 | 2022 | 9  | 3  | Strathcona | 2022-09-01 | After |\n",
       "| 21084 | 2022 | 9  | 19 | Strathcona | 2022-09-01 | After |\n",
       "| 21085 | 2022 | 10 | 4  | Strathcona | 2022-10-01 | After |\n",
       "| 21086 | 2022 | 10 | 20 | Strathcona | 2022-10-01 | After |\n",
       "| 21087 | 2022 | 11 | 4  | Strathcona | 2022-11-01 | After |\n",
       "\n"
      ],
      "text/plain": [
       "      YEAR MONTH DAY NEIGHBOURHOOD DATE       OUTBREAK\n",
       "21082 2022 8     23  Strathcona    2022-08-01 After   \n",
       "21083 2022 9     3   Strathcona    2022-09-01 After   \n",
       "21084 2022 9     19  Strathcona    2022-09-01 After   \n",
       "21085 2022 10    4   Strathcona    2022-10-01 After   \n",
       "21086 2022 10    20  Strathcona    2022-10-01 After   \n",
       "21087 2022 11    4   Strathcona    2022-11-01 After   "
      ]
     },
     "metadata": {},
     "output_type": "display_data"
    }
   ],
   "source": [
    "# Transform the time into the Date format\n",
    "crime_for_offence$DATE <- as.Date(paste(crime_for_offence$YEAR, \n",
    "                                        crime_for_offence$MONTH,\n",
    "                                        \"01\",\n",
    "                                        sep = \"-\"), \n",
    "                                  format = \"%Y-%m-%d\")\n",
    "\n",
    "# Double check by filtering the date into the range we would target generally.\n",
    "subset_data <- subset(crime_for_offence, crime_for_offence$DATE >= as.Date(\"2017-01-01\") &\n",
    "                                         crime_for_offence$DATE <= as.Date(\"2022-12-31\"))\n",
    "\n",
    "# Seperate the dataset into two parts according to the outbreak of COVID-19.\n",
    "subset_data$OUTBREAK <- ifelse(subset_data$DATE < as.Date(\"2020-01-01\"), \n",
    "                               \"Before\", \"After\")\n",
    "\n",
    "head(subset_data)\n",
    "tail(subset_data)"
   ]
  },
  {
   "cell_type": "markdown",
   "metadata": {},
   "source": [
    "**Table 7:** Preview of `'Offence Against a Person'` before COVID *(2017-07-01 to 2020-01-01)* and after *(2020-01-01 to 2022-11-01)*"
   ]
  },
  {
   "cell_type": "markdown",
   "metadata": {},
   "source": [
    "Now we are going to create a frequency plot of crimes by month and year and stratified by the period before and after the outbreak of COVID-19, and convert it to a data frame and edit it slightly."
   ]
  },
  {
   "cell_type": "code",
   "execution_count": 211,
   "metadata": {
    "vscode": {
     "languageId": "r"
    }
   },
   "outputs": [
    {
     "name": "stderr",
     "output_type": "stream",
     "text": [
      "\u001b[1m\u001b[22m`summarise()` has grouped output by 'DATE'. You can override using the\n",
      "`.groups` argument.\n"
     ]
    },
    {
     "data": {
      "image/png": "[encoded data removed]",
      "text/plain": [
       "plot without title"
      ]
     },
     "metadata": {
      "image/png": {
       "height": 720,
       "width": 720
      }
     },
     "output_type": "display_data"
    }
   ],
   "source": [
    "options(repr.plot.width = 12, repr.plot.height = 12)\n",
    "\n",
    "# Grouping data by Data and OUTBREAK\n",
    "grouped_data <- subset_data %>%\n",
    "    group_by(DATE, OUTBREAK) %>%\n",
    "    summarize(count = n())\n",
    "\n",
    "# Plotting Line Plot\n",
    "frequency_plot <- grouped_data %>%\n",
    "    ggplot(aes(x = DATE, y = count)) +\n",
    "               geom_line(aes(color = OUTBREAK)) +\n",
    "               scale_color_manual(values = c(\"darkred\", \"steelblue\")) + \n",
    "               ggtitle(\"Frequency of Offences Before COVID-19 Outbreak\") +\n",
    "               labs(x = \"Date\", y = \"Frequency\") +\n",
    "               theme(text = element_text(size = 20))\n",
    "frequency_plot"
   ]
  },
  {
   "cell_type": "markdown",
   "metadata": {},
   "source": [
    "**Figure 3:** Line Plot of Crime Frequency Before and After COVID. \n",
    "\n",
    "(We can observe how it is an overall increase)"
   ]
  },
  {
   "cell_type": "markdown",
   "metadata": {},
   "source": [
    "# Methods\n",
    "\n",
    "## Plans"
   ]
  },
  {
   "cell_type": "markdown",
   "metadata": {},
   "source": [
    "We will use a combination of exploratory data analysis.\n",
    "\n",
    "- Bootstrapping: We will use this to see whether there is substantial overlap for confidence intervals.\n",
    "  - **95%** is the confidence interval level.\n",
    "  - **1000** is the settled sample size.\n",
    "  - **Percentile** is the used type for distribution.\n",
    "\n",
    "- T-test: We will use this to figure out the p-value, which will help us determine whether we should reject the null hypothesis.\n",
    "  - Null hypothesis: The ratio of the crime **has no fluctuation** when it was the outbreak of COVID-19.\n",
    "  - Alternative hypothesis: The ratio of the crime **has fluctuation** when it was the outbreak of COVID-19.\n",
    "  - **0.05** is the set level of the p-value."
   ]
  },
  {
   "cell_type": "markdown",
   "metadata": {},
   "source": [
    "## Performing Data Analysis"
   ]
  },
  {
   "cell_type": "markdown",
   "metadata": {},
   "source": [
    "### 6. Analysis of `Offence Against a Person` (Using the whole of Vancouver) \n",
    "Now we want to perform bootstrapping to analyze our data before and after COVID. We will be resampling the data and computing confidence intervals for the means."
   ]
  },
  {
   "cell_type": "code",
   "execution_count": 212,
   "metadata": {
    "vscode": {
     "languageId": "r"
    }
   },
   "outputs": [],
   "source": [
    "# Load Library\n",
    "library(boot)"
   ]
  },
  {
   "cell_type": "code",
   "execution_count": 213,
   "metadata": {
    "vscode": {
     "languageId": "r"
    }
   },
   "outputs": [
    {
     "name": "stdout",
     "output_type": "stream",
     "text": [
      "BOOTSTRAP CONFIDENCE INTERVAL CALCULATIONS\n",
      "Based on 1000 bootstrap replicates\n",
      "\n",
      "CALL : \n",
      "boot.ci(boot.out = before_boot, type = \"perc\")\n",
      "\n",
      "Intervals : \n",
      "Level     Percentile     \n",
      "95%   (543.8, 556.0 )  \n",
      "Calculations and Intervals on Original Scale\n",
      "BOOTSTRAP CONFIDENCE INTERVAL CALCULATIONS\n",
      "Based on 1000 bootstrap replicates\n",
      "\n",
      "CALL : \n",
      "boot.ci(boot.out = after_boot, type = \"perc\")\n",
      "\n",
      "Intervals : \n",
      "Level     Percentile     \n",
      "95%   (533.2, 545.3 )  \n",
      "Calculations and Intervals on Original Scale\n"
     ]
    }
   ],
   "source": [
    "# Convert the date to a numeric format such as the number of days since a reference date.\n",
    "before_data$days_since_outbreak <- as.integer(as.Date(\"2020-01-01\") - before_data$DATE)\n",
    "after_data$days_since_outbreak <- as.integer(after_data$DATE - as.Date(\"2020-01-01\"))\n",
    "\n",
    "# Extract the filtered date above\n",
    "before_days <- before_data$days_since_outbreak\n",
    "after_days <- after_data$days_since_outbreak\n",
    "\n",
    "\n",
    "# Define a function to compute the mean of a sample\n",
    "mean_func <- function(data, index) {\n",
    "    mean(data[index])\n",
    "}\n",
    "\n",
    "# Perform bootstrap resampling\n",
    "before_boot <- boot(before_data$days_since_outbreak, mean_func, R = 1000)\n",
    "after_boot <- boot(after_data$days_since_outbreak, mean_func, R = 1000)\n",
    "\n",
    "# Compute the confidence intervals for the means\n",
    "before_ci <- boot.ci(before_boot, type = \"perc\")\n",
    "after_ci <- boot.ci(after_boot, type = \"perc\")\n",
    "\n",
    "# Print the confidence intervals\n",
    "print(before_ci)\n",
    "print(after_ci)"
   ]
  },
  {
   "cell_type": "markdown",
   "metadata": {},
   "source": [
    "**Table 8:** Bootstrap Distribution with Confidence Intervals for Offense Crime Before and After COVID"
   ]
  },
  {
   "attachments": {},
   "cell_type": "markdown",
   "metadata": {},
   "source": [
    "Now let's generate plots with the bootstrap distribution as well as the confidence intervals overlaid on top of the distribution respectively."
   ]
  },
  {
   "cell_type": "code",
   "execution_count": 218,
   "metadata": {
    "vscode": {
     "languageId": "r"
    }
   },
   "outputs": [
    {
     "data": {
      "image/png": "[encoded data removed]",
      "text/plain": [
       "Plot with title \"Histogram of t\""
      ]
     },
     "metadata": {
      "image/png": {
       "height": 720,
       "width": 1080
      }
     },
     "output_type": "display_data"
    },
    {
     "data": {
      "image/png": "[encoded data removed]",
      "text/plain": [
       "Plot with title \"Histogram of t\""
      ]
     },
     "metadata": {
      "image/png": {
       "height": 720,
       "width": 1080
      }
     },
     "output_type": "display_data"
    }
   ],
   "source": [
    "plot(before_boot, type = \"bci\")\n",
    "plot(after_boot, type = \"bci\")"
   ]
  },
  {
   "attachments": {},
   "cell_type": "markdown",
   "metadata": {},
   "source": [
    "**Figure 4:** Plots with bootstrap distribution of the two timeslots' data respectively."
   ]
  },
  {
   "cell_type": "markdown",
   "metadata": {},
   "source": [
    "Now that we have calculated the bootstrap distribution, let's visualize the bootstrapping distribution of means."
   ]
  },
  {
   "cell_type": "code",
   "execution_count": 214,
   "metadata": {
    "vscode": {
     "languageId": "r"
    }
   },
   "outputs": [
    {
     "data": {
      "image/png": "[encoded data removed]",
      "text/plain": [
       "plot without title"
      ]
     },
     "metadata": {
      "image/png": {
       "height": 720,
       "width": 1080
      }
     },
     "output_type": "display_data"
    }
   ],
   "source": [
    "options(repr.plot.width = 18, repr.plot.height = 12)\n",
    "\n",
    "# Create a data frame with the bootstrap means and labels\n",
    "before_df <- data.frame(value = before_boot$t, group = \"Before\")\n",
    "after_df <- data.frame(value = after_boot$t, group = \"After\")\n",
    "df <- rbind(before_df, after_df)\n",
    "\n",
    "# Create a histogram with confidence intervals\n",
    "ggplot(df, aes(x = value, fill = group)) +\n",
    "    geom_histogram(alpha = 0.5, position = \"identity\", bins = 500) +\n",
    "    geom_vline(xintercept = before_ci$percent[1], linetype = \"dashed\", color = \"darkred\") +\n",
    "    geom_vline(xintercept = before_ci$percent[2], linetype = \"dashed\", color = \"darkred\") +\n",
    "    geom_vline(xintercept = after_ci$percent[1], linetype = \"dashed\", color = \"steelblue\") +\n",
    "    geom_vline(xintercept = after_ci$percent[2], linetype = \"dashed\", color = \"steelblue\") +\n",
    "    labs(title = \"Bootstrap distribution of means\",\n",
    "         x = \"Mean\",\n",
    "         y = \"Frequency\",\n",
    "         fill = \"Group\") +\n",
    "    theme(text = element_text(size = 20))"
   ]
  },
  {
   "cell_type": "markdown",
   "metadata": {},
   "source": [
    "**Figure 4:** Bootstrap Distribution of Means"
   ]
  },
  {
   "cell_type": "markdown",
   "metadata": {},
   "source": [
    "According to the graph above, the confidence intervals overlap substantially, it suggests that there may not be a statistically significant difference between the groups being compared. However, it is not a definitive indication of the presence or absence of a statistically significant difference."
   ]
  },
  {
   "cell_type": "markdown",
   "metadata": {},
   "source": [
    "Let's perform hypothesis testing to determine whether there is a significant difference between the distributions of crimes before and after the outbreak. \n",
    "\n",
    "We will use **t-test**, and then **check the p-value**."
   ]
  },
  {
   "cell_type": "code",
   "execution_count": 215,
   "metadata": {
    "vscode": {
     "languageId": "r"
    }
   },
   "outputs": [
    {
     "data": {
      "text/plain": [
       "\n",
       "\tWelch Two Sample t-test\n",
       "\n",
       "data:  before_days and after_days\n",
       "t = 2.4186, df = 20495, p-value = 0.01559\n",
       "alternative hypothesis: true difference in means is not equal to 0\n",
       "95 percent confidence interval:\n",
       "  2.014768 19.239448\n",
       "sample estimates:\n",
       "mean of x mean of y \n",
       " 549.9443  539.3172 \n"
      ]
     },
     "metadata": {},
     "output_type": "display_data"
    }
   ],
   "source": [
    "# Doing t-test which includes p-value.\n",
    "t.test(before_days, after_days)"
   ]
  },
  {
   "cell_type": "markdown",
   "metadata": {},
   "source": [
    "**Table 9:** two-sample t-test on Before vs. After COVID Offences"
   ]
  },
  {
   "cell_type": "markdown",
   "metadata": {},
   "source": [
    "From the result above, we can observed that the two-samples' p-value from t-test is **less than 0.05**, which is 0.01559.\n",
    "We can **reject the null hypothesis**.\n",
    "And now we can tell that **there is significant difference in the mean frequency of crime** before and after the outbreak of COVID-19."
   ]
  },
  {
   "cell_type": "markdown",
   "metadata": {},
   "source": [
    "### 7. Analysis of `Offence Against a Person` (Analyzing the `Neighbourhoods` within Vancouver) "
   ]
  },
  {
   "cell_type": "markdown",
   "metadata": {},
   "source": [
    "Now we will try to do the **Hypothesis Test** for each `NEIGHBOURHOOD` :\n",
    "\n",
    "We are going to compare the frequency of crime from 2017 to 2019 and 2020 to 2022 for each `NEIGHBOURHOOD` and obtain the p-value for each test."
   ]
  },
  {
   "cell_type": "code",
   "execution_count": 216,
   "metadata": {
    "vscode": {
     "languageId": "r"
    }
   },
   "outputs": [
    {
     "name": "stderr",
     "output_type": "stream",
     "text": [
      "Warning message in chisq.test(contingency_table):\n",
      "\"Chi-squared approximation may be incorrect\"\n",
      "Warning message in chisq.test(contingency_table):\n",
      "\"Chi-squared approximation may be incorrect\"\n",
      "Warning message in chisq.test(contingency_table):\n",
      "\"Chi-squared approximation may be incorrect\"\n",
      "Warning message in chisq.test(contingency_table):\n",
      "\"Chi-squared approximation may be incorrect\"\n",
      "Warning message in chisq.test(contingency_table):\n",
      "\"Chi-squared approximation may be incorrect\"\n",
      "Warning message in chisq.test(contingency_table):\n",
      "\"Chi-squared approximation may be incorrect\"\n"
     ]
    },
    {
     "data": {
      "text/html": [
       "<table class=\"dataframe\">\n",
       "<caption>A data.frame: 24 × 3</caption>\n",
       "<thead>\n",
       "\t<tr><th scope=col>NEIGHBOURHOOD</th><th scope=col>test</th><th scope=col>p_value</th></tr>\n",
       "\t<tr><th scope=col>&lt;chr&gt;</th><th scope=col>&lt;chr&gt;</th><th scope=col>&lt;dbl&gt;</th></tr>\n",
       "</thead>\n",
       "<tbody>\n",
       "\t<tr><td>West End                 </td><td>p_value</td><td> 0.000000e+00</td></tr>\n",
       "\t<tr><td>Stanley Park             </td><td>p_value</td><td> 1.358353e-15</td></tr>\n",
       "\t<tr><td>Central Business District</td><td>p_value</td><td> 0.000000e+00</td></tr>\n",
       "\t<tr><td>Mount Pleasant           </td><td>p_value</td><td>6.453203e-211</td></tr>\n",
       "\t<tr><td>Strathcona               </td><td>p_value</td><td> 0.000000e+00</td></tr>\n",
       "\t<tr><td>Grandview-Woodland       </td><td>p_value</td><td>2.633585e-268</td></tr>\n",
       "\t<tr><td>Kensington-Cedar Cottage </td><td>p_value</td><td>9.060487e-167</td></tr>\n",
       "\t<tr><td>Hastings-Sunrise         </td><td>p_value</td><td>5.382466e-119</td></tr>\n",
       "\t<tr><td>Renfrew-Collingwood      </td><td>p_value</td><td>1.781760e-173</td></tr>\n",
       "\t<tr><td>Oakridge                 </td><td>p_value</td><td> 6.059250e-33</td></tr>\n",
       "\t<tr><td>Sunset                   </td><td>p_value</td><td>5.541577e-108</td></tr>\n",
       "\t<tr><td>Riley Park               </td><td>p_value</td><td> 6.498316e-51</td></tr>\n",
       "\t<tr><td>Victoria-Fraserview      </td><td>p_value</td><td> 1.382441e-63</td></tr>\n",
       "\t<tr><td>Killarney                </td><td>p_value</td><td> 1.348117e-66</td></tr>\n",
       "\t<tr><td>West Point Grey          </td><td>p_value</td><td> 1.084075e-21</td></tr>\n",
       "\t<tr><td>Musqueam                 </td><td>p_value</td><td> 1.024791e-13</td></tr>\n",
       "\t<tr><td>Dunbar-Southlands        </td><td>p_value</td><td> 2.206015e-23</td></tr>\n",
       "\t<tr><td>Kitsilano                </td><td>p_value</td><td> 4.872931e-84</td></tr>\n",
       "\t<tr><td>Arbutus Ridge            </td><td>p_value</td><td> 7.527792e-17</td></tr>\n",
       "\t<tr><td>Kerrisdale               </td><td>p_value</td><td> 8.585932e-20</td></tr>\n",
       "\t<tr><td>Shaughnessy              </td><td>p_value</td><td> 3.677817e-19</td></tr>\n",
       "\t<tr><td>Fairview                 </td><td>p_value</td><td>4.615598e-109</td></tr>\n",
       "\t<tr><td>Marpole                  </td><td>p_value</td><td> 7.366537e-90</td></tr>\n",
       "\t<tr><td>South Cambie             </td><td>p_value</td><td> 9.512098e-23</td></tr>\n",
       "</tbody>\n",
       "</table>\n"
      ],
      "text/latex": [
       "A data.frame: 24 × 3\n",
       "\\begin{tabular}{lll}\n",
       " NEIGHBOURHOOD & test & p\\_value\\\\\n",
       " <chr> & <chr> & <dbl>\\\\\n",
       "\\hline\n",
       "\t West End                  & p\\_value &  0.000000e+00\\\\\n",
       "\t Stanley Park              & p\\_value &  1.358353e-15\\\\\n",
       "\t Central Business District & p\\_value &  0.000000e+00\\\\\n",
       "\t Mount Pleasant            & p\\_value & 6.453203e-211\\\\\n",
       "\t Strathcona                & p\\_value &  0.000000e+00\\\\\n",
       "\t Grandview-Woodland        & p\\_value & 2.633585e-268\\\\\n",
       "\t Kensington-Cedar Cottage  & p\\_value & 9.060487e-167\\\\\n",
       "\t Hastings-Sunrise          & p\\_value & 5.382466e-119\\\\\n",
       "\t Renfrew-Collingwood       & p\\_value & 1.781760e-173\\\\\n",
       "\t Oakridge                  & p\\_value &  6.059250e-33\\\\\n",
       "\t Sunset                    & p\\_value & 5.541577e-108\\\\\n",
       "\t Riley Park                & p\\_value &  6.498316e-51\\\\\n",
       "\t Victoria-Fraserview       & p\\_value &  1.382441e-63\\\\\n",
       "\t Killarney                 & p\\_value &  1.348117e-66\\\\\n",
       "\t West Point Grey           & p\\_value &  1.084075e-21\\\\\n",
       "\t Musqueam                  & p\\_value &  1.024791e-13\\\\\n",
       "\t Dunbar-Southlands         & p\\_value &  2.206015e-23\\\\\n",
       "\t Kitsilano                 & p\\_value &  4.872931e-84\\\\\n",
       "\t Arbutus Ridge             & p\\_value &  7.527792e-17\\\\\n",
       "\t Kerrisdale                & p\\_value &  8.585932e-20\\\\\n",
       "\t Shaughnessy               & p\\_value &  3.677817e-19\\\\\n",
       "\t Fairview                  & p\\_value & 4.615598e-109\\\\\n",
       "\t Marpole                   & p\\_value &  7.366537e-90\\\\\n",
       "\t South Cambie              & p\\_value &  9.512098e-23\\\\\n",
       "\\end{tabular}\n"
      ],
      "text/markdown": [
       "\n",
       "A data.frame: 24 × 3\n",
       "\n",
       "| NEIGHBOURHOOD &lt;chr&gt; | test &lt;chr&gt; | p_value &lt;dbl&gt; |\n",
       "|---|---|---|\n",
       "| West End                  | p_value |  0.000000e+00 |\n",
       "| Stanley Park              | p_value |  1.358353e-15 |\n",
       "| Central Business District | p_value |  0.000000e+00 |\n",
       "| Mount Pleasant            | p_value | 6.453203e-211 |\n",
       "| Strathcona                | p_value |  0.000000e+00 |\n",
       "| Grandview-Woodland        | p_value | 2.633585e-268 |\n",
       "| Kensington-Cedar Cottage  | p_value | 9.060487e-167 |\n",
       "| Hastings-Sunrise          | p_value | 5.382466e-119 |\n",
       "| Renfrew-Collingwood       | p_value | 1.781760e-173 |\n",
       "| Oakridge                  | p_value |  6.059250e-33 |\n",
       "| Sunset                    | p_value | 5.541577e-108 |\n",
       "| Riley Park                | p_value |  6.498316e-51 |\n",
       "| Victoria-Fraserview       | p_value |  1.382441e-63 |\n",
       "| Killarney                 | p_value |  1.348117e-66 |\n",
       "| West Point Grey           | p_value |  1.084075e-21 |\n",
       "| Musqueam                  | p_value |  1.024791e-13 |\n",
       "| Dunbar-Southlands         | p_value |  2.206015e-23 |\n",
       "| Kitsilano                 | p_value |  4.872931e-84 |\n",
       "| Arbutus Ridge             | p_value |  7.527792e-17 |\n",
       "| Kerrisdale                | p_value |  8.585932e-20 |\n",
       "| Shaughnessy               | p_value |  3.677817e-19 |\n",
       "| Fairview                  | p_value | 4.615598e-109 |\n",
       "| Marpole                   | p_value |  7.366537e-90 |\n",
       "| South Cambie              | p_value |  9.512098e-23 |\n",
       "\n"
      ],
      "text/plain": [
       "   NEIGHBOURHOOD             test    p_value      \n",
       "1  West End                  p_value  0.000000e+00\n",
       "2  Stanley Park              p_value  1.358353e-15\n",
       "3  Central Business District p_value  0.000000e+00\n",
       "4  Mount Pleasant            p_value 6.453203e-211\n",
       "5  Strathcona                p_value  0.000000e+00\n",
       "6  Grandview-Woodland        p_value 2.633585e-268\n",
       "7  Kensington-Cedar Cottage  p_value 9.060487e-167\n",
       "8  Hastings-Sunrise          p_value 5.382466e-119\n",
       "9  Renfrew-Collingwood       p_value 1.781760e-173\n",
       "10 Oakridge                  p_value  6.059250e-33\n",
       "11 Sunset                    p_value 5.541577e-108\n",
       "12 Riley Park                p_value  6.498316e-51\n",
       "13 Victoria-Fraserview       p_value  1.382441e-63\n",
       "14 Killarney                 p_value  1.348117e-66\n",
       "15 West Point Grey           p_value  1.084075e-21\n",
       "16 Musqueam                  p_value  1.024791e-13\n",
       "17 Dunbar-Southlands         p_value  2.206015e-23\n",
       "18 Kitsilano                 p_value  4.872931e-84\n",
       "19 Arbutus Ridge             p_value  7.527792e-17\n",
       "20 Kerrisdale                p_value  8.585932e-20\n",
       "21 Shaughnessy               p_value  3.677817e-19\n",
       "22 Fairview                  p_value 4.615598e-109\n",
       "23 Marpole                   p_value  7.366537e-90\n",
       "24 South Cambie              p_value  9.512098e-23"
      ]
     },
     "metadata": {},
     "output_type": "display_data"
    }
   ],
   "source": [
    "# Filter and Select data from crime\n",
    "crime_offence <- crime %>%\n",
    "    filter(TYPE == \"Offence Against a Person\") %>%\n",
    "    filter(NEIGHBOURHOOD != \"\") %>%\n",
    "    select(YEAR, NEIGHBOURHOOD)\n",
    "\n",
    "# Create a new column to indicate whether the crime happened from 2017 to 2019 or 2020 to 2022\n",
    "crime_offence$period <- ifelse(crime_offence$YEAR %in% c(2017, 2018, 2019), \"2017-2019\", \"2020-2022\")\n",
    "\n",
    "# Get a list of unique neighborhoods\n",
    "neighborhoods <- unique(crime_offence$NEIGHBOURHOOD)\n",
    "\n",
    "# Create an empty vector to store the p-values\n",
    "p_values <- c()\n",
    "\n",
    "for (n in neighborhoods) {\n",
    "  # Subset the data for the current neighborhood\n",
    "  neighborhood_data <- subset(crime_offence, NEIGHBOURHOOD == n)\n",
    "  \n",
    "  # Create a contingency table of crime frequency by year and period\n",
    "  contingency_table <- table(neighborhood_data$YEAR, neighborhood_data$period)\n",
    "  \n",
    "  # Conduct a chi-square test of independence to compare the frequency of crime between the two periods\n",
    "  chi_sq_test <- chisq.test(contingency_table)\n",
    "  \n",
    "  # Extract the p-value from the test result\n",
    "  p_value <- chi_sq_test$p.value\n",
    "  \n",
    "  # Add the p-value to the vector\n",
    "  p_values <- c(p_values, p_value)\n",
    "}\n",
    "\n",
    "# Print the p-values for each neighborhood\n",
    "names(p_values) <- neighborhoods\n",
    "\n",
    "# Convert the p-values to a data frame\n",
    "p_values_df <- data.frame(NEIGHBOURHOOD = names(p_values), p_value = p_values)\n",
    "\n",
    "# Create a tidy format using the gather function\n",
    "tidy_p_values <- gather(p_values_df, key = \"test\", value = \"p_value\", -NEIGHBOURHOOD)\n",
    "\n",
    "tidy_p_values"
   ]
  },
  {
   "cell_type": "markdown",
   "metadata": {},
   "source": [
    "**Table 10:** p-values of each Neighbourhood"
   ]
  },
  {
   "cell_type": "markdown",
   "metadata": {},
   "source": [
    "As we can see from the chart above, according to the p_values for the `NEIGHBOURHOOD` column, they are generally super small.\n",
    "\n",
    "It is in turn showing a strong evidence to support the assumption that the frequency of **`Offence Against a Person`** had a big fluctuation during the outbreak of COVID-19. Again we can **reject the null hypothesis**."
   ]
  },
  {
   "cell_type": "markdown",
   "metadata": {},
   "source": [
    "## Discussion:\n",
    "\n",
    "### Recap\n",
    "In this report, we tested the question of whether the crime rate was influenced by the outbreak of COVID-19 and which types of crime have abnormal fluctuations that need people to pay attention to. We first take a glance at the dataset to see what it looks like and do a comparison between different communities. We then found confidence intervals using bootstrapping, resampling the data, and conducting hypothesis testing which revealed that there is significant difference in the mean frequency of crime before and after the outbreak of COVID-19. Then we did the hypothesis test on comparing the frequency and obtaining the p-value for each test. These p-values support the assumption that the frequency of Offence Against a Person had a big fluctuation during the outbreak of COVID-19."
   ]
  },
  {
   "cell_type": "markdown",
   "metadata": {},
   "source": [
    "### Expectations\n",
    "\n",
    "We expected to find significant changes in the frequency of crime following the outbreak of COVID-19. This is because the pandemic had led to unprecedented disruptions in daily life, including economic stress, social isolation, and increased substance abuse, which are all factors that could potentially drive changes in crime rates. Specifically, we expected to see an increase in crimes related to offences. \n",
    "\n",
    "### Interpretation\n",
    "After conducting our tests, our predictions were able to come true, we were able to **reject the null hypothesis** with there being significant fluctuations in `Offence Against a Person` with an average increase.\n",
    "\n",
    "### Limitations\n",
    "\n",
    "This project's primary source of error was our decision on choosing the significance level. We chose 5% to be our level and it also determined the likelihood of making a Type I error. The 5% indicates the likelihood of our **null hypothesis** being true. \n",
    "\n",
    "This analysis is also limited by the scope of the data and the communities included hence may not be generalizable to other communities or regions. We also only analyzed if there were significant changes in crime rate, not the causes which may be many."
   ]
  },
  {
   "cell_type": "markdown",
   "metadata": {},
   "source": [
    "## Conclusion\n",
    "\n",
    "### Impact\n",
    "Our analysis suggests that the outbreak of COVID-19 has had a significant impact on the frequency of crime in the community. Specifically, we found the following:\n",
    "\n",
    "1. The outbreak of COVID-19 has had a significant impact on the frequency of crime in the community, particularly Offence Against a Person.\n",
    "2. Economic stress, social isolation, and increased substance abuse are likely drivers of the increase in crime.\n",
    "3. Racial discrimination could potentailly also be a significant aspect of this crime that needs to be addressed.\n",
    "\n",
    "Overall, our analysis underscores the urgent need for policymakers and law enforcement agencies to address the root causes of this increase in crime and develop strategies to mitigate the impact of the outbreak on community safety. Our study highlights the need for targeted crime prevention strategies to address the significant increase in certain types of crimes during the COVID-19 pandemic. Policymakers can use these findings to allocate resources effectively and develop evidence-based strategies to respond to and prevent crime during future pandemics or crisis situations.\n",
    "\n",
    "### Future Questions\n",
    "This study provides a foundation for future research in this area. For instance:\n",
    "\n",
    "- Further investigation could explore the causal mechanisms behind the observed increase in crime during the pandemic. \n",
    "- Research could examine how different communities were impacted by the pandemic, and whether certain factors (such as demographic characteristics, economic conditions, or public health policies) played a role in shaping crime patterns.\n",
    "- We could analyze crime in specific neighbourhoods more rigourously which in turn would provide the necessary police force information to allocate resources effectively."
   ]
  },
  {
   "cell_type": "markdown",
   "metadata": {},
   "source": [
    "## References:\n",
    "\n",
    "- SFU Research. (n.d.). How COVID-19 Lockdowns Affected Crime in Vancouver. Retrieved from https://www.sfu.ca/research/scholarly-impacts/how-covid-19-lockdowns-affected-crime-vancouver\n",
    "\n",
    "- Vancouver Police Department. (n.d.). Home. Retrieved from https://vpd.ca/\n",
    "\n",
    "- CBC News.(2021, June 28). How COVID-19 lockdowns have changed the way Vancouver police respond to crime. CBC News. https://www.cbc.ca/amp/1.6078015"
   ]
  }
 ],
 "metadata": {
  "kernelspec": {
   "display_name": "R",
   "language": "R",
   "name": "ir"
  },
  "language_info": {
   "codemirror_mode": "r",
   "file_extension": ".r",
   "mimetype": "text/x-r-source",
   "name": "R",
   "pygments_lexer": "r",
   "version": "4.1.3"
  }
 },
 "nbformat": 4,
 "nbformat_minor": 4
}
