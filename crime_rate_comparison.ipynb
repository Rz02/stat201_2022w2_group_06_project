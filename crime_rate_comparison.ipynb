{
 "cells": [
  {
   "attachments": {},
   "cell_type": "markdown",
   "metadata": {},
   "source": [
    "### Comparison of crime rates before and after the outbreak of COVID-19 in Vancouver, Canada\n",
    "\n",
    "\n",
    "Crime rates are one of the key indicators of community safety, and major social events such as political change and public health emergency of international concern can have the potential to impact and destabilize crime rates.\n",
    "\n",
    "\n",
    "Based on the most recent major health emergency event: COVID-19, we will use the time point of this outbreak, i.e. Early 2020, as the dividing line, to compare the crime rates in Vancouver **three years ago (2017-2019)** and **three years later (2020-2022)**.\n",
    "\n",
    "\n",
    "In this project, the main question which we want to figure out is:\n",
    "#### TBD\n",
    "\n",
    "\n",
    "Our dataset contains crime information in Vancouver (all regions covered according to `VPD Open Data`) from 2017-2022, and including information such as:\n",
    "- `TYPE`: The type of crime activities.\n",
    "- `YEAR`, `MONTH`, `DAY`, `HOUR`, `MINUTE`: The time when the reported crime activity occured. (Based on the finding of the police investigation.)\n",
    "- `HUNDRED_BLOCK`: Generalized location of the reported crime activity.\n",
    "- `NEIGHBOURHOOD`: The name of the neighbourhood where the location of the reported crime activity was belonged to.\n",
    "- `X`, `Y`: Coordinate Values. \n",
    "\n",
    "\n",
    "For more information, please take a look at the website: https://vpd.ca/"
   ]
  },
  {
   "attachments": {},
   "cell_type": "markdown",
   "metadata": {},
   "source": [
    "First, we need to load the necessary libraries:"
   ]
  },
  {
   "cell_type": "code",
   "execution_count": 46,
   "metadata": {
    "vscode": {
     "languageId": "r"
    }
   },
   "outputs": [],
   "source": [
    "library(tidyverse)\n",
    "library(GGally)\n",
    "library(tidymodels)\n",
    "library(broom)\n",
    "library(repr)\n",
    "library(infer)"
   ]
  },
  {
   "attachments": {},
   "cell_type": "markdown",
   "metadata": {},
   "source": [
    "## 1. Loading the dataset\n",
    "\n",
    "The first thing we do is to take a glance at the dataset to see what does it look like."
   ]
  },
  {
   "cell_type": "code",
   "execution_count": 47,
   "metadata": {
    "vscode": {
     "languageId": "r"
    }
   },
   "outputs": [
    {
     "data": {
      "text/html": [
       "<table class=\"dataframe\">\n",
       "<caption>A data.frame: 6 × 10</caption>\n",
       "<thead>\n",
       "\t<tr><th></th><th scope=col>TYPE</th><th scope=col>YEAR</th><th scope=col>MONTH</th><th scope=col>DAY</th><th scope=col>HOUR</th><th scope=col>MINUTE</th><th scope=col>HUNDRED_BLOCK</th><th scope=col>NEIGHBOURHOOD</th><th scope=col>X</th><th scope=col>Y</th></tr>\n",
       "\t<tr><th></th><th scope=col>&lt;chr&gt;</th><th scope=col>&lt;chr&gt;</th><th scope=col>&lt;chr&gt;</th><th scope=col>&lt;chr&gt;</th><th scope=col>&lt;chr&gt;</th><th scope=col>&lt;chr&gt;</th><th scope=col>&lt;chr&gt;</th><th scope=col>&lt;chr&gt;</th><th scope=col>&lt;chr&gt;</th><th scope=col>&lt;chr&gt;</th></tr>\n",
       "</thead>\n",
       "<tbody>\n",
       "\t<tr><th scope=row>1</th><td>Theft from Vehicle</td><td>2017</td><td>8 </td><td>29</td><td>21</td><td>30</td><td>19XX TURNER ST  </td><td>Grandview-Woodland </td><td>495232.4238</td><td>5458486.6121</td></tr>\n",
       "\t<tr><th scope=row>2</th><td>Theft from Vehicle</td><td>2017</td><td>12</td><td>25</td><td>21</td><td>0 </td><td>19XX UPLAND DR  </td><td>Victoria-Fraserview</td><td>495089.4532</td><td>5451695.1098</td></tr>\n",
       "\t<tr><th scope=row>3</th><td>Theft from Vehicle</td><td>2017</td><td>3 </td><td>24</td><td>22</td><td>30</td><td>19XX VENABLES ST</td><td>Grandview-Woodland </td><td>495231.0367</td><td>5458207.3987</td></tr>\n",
       "\t<tr><th scope=row>4</th><td>Theft from Vehicle</td><td>2017</td><td>10</td><td>23</td><td>9 </td><td>22</td><td>19XX VENABLES ST</td><td>Grandview-Woodland </td><td>495231.0367</td><td>5458207.3987</td></tr>\n",
       "\t<tr><th scope=row>5</th><td>Theft from Vehicle</td><td>2017</td><td>7 </td><td>3 </td><td>21</td><td>0 </td><td>19XX W 11TH AVE </td><td>Kitsilano          </td><td>489210.9151</td><td>5456573.0018</td></tr>\n",
       "\t<tr><th scope=row>6</th><td>Theft from Vehicle</td><td>2017</td><td>11</td><td>10</td><td>16</td><td>0 </td><td>19XX W 11TH AVE </td><td>Kitsilano          </td><td>489210.9151</td><td>5456573.0018</td></tr>\n",
       "</tbody>\n",
       "</table>\n"
      ],
      "text/latex": [
       "A data.frame: 6 × 10\n",
       "\\begin{tabular}{r|llllllllll}\n",
       "  & TYPE & YEAR & MONTH & DAY & HOUR & MINUTE & HUNDRED\\_BLOCK & NEIGHBOURHOOD & X & Y\\\\\n",
       "  & <chr> & <chr> & <chr> & <chr> & <chr> & <chr> & <chr> & <chr> & <chr> & <chr>\\\\\n",
       "\\hline\n",
       "\t1 & Theft from Vehicle & 2017 & 8  & 29 & 21 & 30 & 19XX TURNER ST   & Grandview-Woodland  & 495232.4238 & 5458486.6121\\\\\n",
       "\t2 & Theft from Vehicle & 2017 & 12 & 25 & 21 & 0  & 19XX UPLAND DR   & Victoria-Fraserview & 495089.4532 & 5451695.1098\\\\\n",
       "\t3 & Theft from Vehicle & 2017 & 3  & 24 & 22 & 30 & 19XX VENABLES ST & Grandview-Woodland  & 495231.0367 & 5458207.3987\\\\\n",
       "\t4 & Theft from Vehicle & 2017 & 10 & 23 & 9  & 22 & 19XX VENABLES ST & Grandview-Woodland  & 495231.0367 & 5458207.3987\\\\\n",
       "\t5 & Theft from Vehicle & 2017 & 7  & 3  & 21 & 0  & 19XX W 11TH AVE  & Kitsilano           & 489210.9151 & 5456573.0018\\\\\n",
       "\t6 & Theft from Vehicle & 2017 & 11 & 10 & 16 & 0  & 19XX W 11TH AVE  & Kitsilano           & 489210.9151 & 5456573.0018\\\\\n",
       "\\end{tabular}\n"
      ],
      "text/markdown": [
       "\n",
       "A data.frame: 6 × 10\n",
       "\n",
       "| <!--/--> | TYPE &lt;chr&gt; | YEAR &lt;chr&gt; | MONTH &lt;chr&gt; | DAY &lt;chr&gt; | HOUR &lt;chr&gt; | MINUTE &lt;chr&gt; | HUNDRED_BLOCK &lt;chr&gt; | NEIGHBOURHOOD &lt;chr&gt; | X &lt;chr&gt; | Y &lt;chr&gt; |\n",
       "|---|---|---|---|---|---|---|---|---|---|---|\n",
       "| 1 | Theft from Vehicle | 2017 | 8  | 29 | 21 | 30 | 19XX TURNER ST   | Grandview-Woodland  | 495232.4238 | 5458486.6121 |\n",
       "| 2 | Theft from Vehicle | 2017 | 12 | 25 | 21 | 0  | 19XX UPLAND DR   | Victoria-Fraserview | 495089.4532 | 5451695.1098 |\n",
       "| 3 | Theft from Vehicle | 2017 | 3  | 24 | 22 | 30 | 19XX VENABLES ST | Grandview-Woodland  | 495231.0367 | 5458207.3987 |\n",
       "| 4 | Theft from Vehicle | 2017 | 10 | 23 | 9  | 22 | 19XX VENABLES ST | Grandview-Woodland  | 495231.0367 | 5458207.3987 |\n",
       "| 5 | Theft from Vehicle | 2017 | 7  | 3  | 21 | 0  | 19XX W 11TH AVE  | Kitsilano           | 489210.9151 | 5456573.0018 |\n",
       "| 6 | Theft from Vehicle | 2017 | 11 | 10 | 16 | 0  | 19XX W 11TH AVE  | Kitsilano           | 489210.9151 | 5456573.0018 |\n",
       "\n"
      ],
      "text/plain": [
       "  TYPE               YEAR MONTH DAY HOUR MINUTE HUNDRED_BLOCK   \n",
       "1 Theft from Vehicle 2017 8     29  21   30     19XX TURNER ST  \n",
       "2 Theft from Vehicle 2017 12    25  21   0      19XX UPLAND DR  \n",
       "3 Theft from Vehicle 2017 3     24  22   30     19XX VENABLES ST\n",
       "4 Theft from Vehicle 2017 10    23  9    22     19XX VENABLES ST\n",
       "5 Theft from Vehicle 2017 7     3   21   0      19XX W 11TH AVE \n",
       "6 Theft from Vehicle 2017 11    10  16   0      19XX W 11TH AVE \n",
       "  NEIGHBOURHOOD       X           Y           \n",
       "1 Grandview-Woodland  495232.4238 5458486.6121\n",
       "2 Victoria-Fraserview 495089.4532 5451695.1098\n",
       "3 Grandview-Woodland  495231.0367 5458207.3987\n",
       "4 Grandview-Woodland  495231.0367 5458207.3987\n",
       "5 Kitsilano           489210.9151 5456573.0018\n",
       "6 Kitsilano           489210.9151 5456573.0018"
      ]
     },
     "metadata": {},
     "output_type": "display_data"
    }
   ],
   "source": [
    "crime <- read.csv(\"crime_data/merged_csv_files.csv\")\n",
    "head(crime)"
   ]
  },
  {
   "attachments": {},
   "cell_type": "markdown",
   "metadata": {},
   "source": [
    "In case we might do comparison between different communities, we would filter out NA data in `NEIGHBOURHOOD` column, and the weird string type in `YEAR` column."
   ]
  },
  {
   "cell_type": "code",
   "execution_count": 48,
   "metadata": {
    "vscode": {
     "languageId": "r"
    }
   },
   "outputs": [],
   "source": [
    "crime <- crime %>%\n",
    "        filter(!is.na(NEIGHBOURHOOD)) %>%\n",
    "        filter(!(YEAR == \"YEAR\"))"
   ]
  },
  {
   "attachments": {},
   "cell_type": "markdown",
   "metadata": {},
   "source": [
    "Firstly, we can simply do a comparison of general crime rates in different years from 2017-2022 to see the general tendency."
   ]
  },
  {
   "cell_type": "code",
   "execution_count": 50,
   "metadata": {
    "vscode": {
     "languageId": "r"
    }
   },
   "outputs": [
    {
     "data": {
      "text/html": [
       "<table class=\"dataframe\">\n",
       "<caption>A tibble: 6 × 2</caption>\n",
       "<thead>\n",
       "\t<tr><th scope=col>YEAR</th><th scope=col>n</th></tr>\n",
       "\t<tr><th scope=col>&lt;chr&gt;</th><th scope=col>&lt;int&gt;</th></tr>\n",
       "</thead>\n",
       "<tbody>\n",
       "\t<tr><td>2017</td><td>43214</td></tr>\n",
       "\t<tr><td>2018</td><td>44266</td></tr>\n",
       "\t<tr><td>2019</td><td>48144</td></tr>\n",
       "\t<tr><td>2020</td><td>37506</td></tr>\n",
       "\t<tr><td>2021</td><td>32189</td></tr>\n",
       "\t<tr><td>2022</td><td>34189</td></tr>\n",
       "</tbody>\n",
       "</table>\n"
      ],
      "text/latex": [
       "A tibble: 6 × 2\n",
       "\\begin{tabular}{ll}\n",
       " YEAR & n\\\\\n",
       " <chr> & <int>\\\\\n",
       "\\hline\n",
       "\t 2017 & 43214\\\\\n",
       "\t 2018 & 44266\\\\\n",
       "\t 2019 & 48144\\\\\n",
       "\t 2020 & 37506\\\\\n",
       "\t 2021 & 32189\\\\\n",
       "\t 2022 & 34189\\\\\n",
       "\\end{tabular}\n"
      ],
      "text/markdown": [
       "\n",
       "A tibble: 6 × 2\n",
       "\n",
       "| YEAR &lt;chr&gt; | n &lt;int&gt; |\n",
       "|---|---|\n",
       "| 2017 | 43214 |\n",
       "| 2018 | 44266 |\n",
       "| 2019 | 48144 |\n",
       "| 2020 | 37506 |\n",
       "| 2021 | 32189 |\n",
       "| 2022 | 34189 |\n",
       "\n"
      ],
      "text/plain": [
       "  YEAR n    \n",
       "1 2017 43214\n",
       "2 2018 44266\n",
       "3 2019 48144\n",
       "4 2020 37506\n",
       "5 2021 32189\n",
       "6 2022 34189"
      ]
     },
     "metadata": {},
     "output_type": "display_data"
    },
    {
     "data": {
      "image/png": "[encoded data removed]",
      "text/plain": [
       "plot without title"
      ]
     },
     "metadata": {
      "image/png": {
       "height": 420,
       "width": 420
      }
     },
     "output_type": "display_data"
    }
   ],
   "source": [
    "annual_general_crime <- crime %>%\n",
    "               group_by(YEAR) %>%\n",
    "               summarise(n = n())\n",
    "\n",
    "annual_general_crime\n",
    "\n",
    "annual_general_crime_plot <- annual_general_crime %>%\n",
    "               ggplot(aes(x = YEAR, y = n, group = 1)) +\n",
    "               geom_line() +\n",
    "               geom_point() +\n",
    "               ggtitle(\"Annually general crime rates' comparison\")\n",
    "\n",
    "annual_general_crime_plot"
   ]
  }
 ],
 "metadata": {
  "kernelspec": {
   "display_name": "R",
   "language": "R",
   "name": "ir"
  },
  "language_info": {
   "codemirror_mode": "r",
   "file_extension": ".r",
   "mimetype": "text/x-r-source",
   "name": "R",
   "pygments_lexer": "r",
   "version": "4.2.2"
  },
  "orig_nbformat": 4
 },
 "nbformat": 4,
 "nbformat_minor": 2
}
